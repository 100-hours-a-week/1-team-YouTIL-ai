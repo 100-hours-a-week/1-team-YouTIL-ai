{
 "cells": [
  {
   "cell_type": "code",
   "execution_count": null,
   "id": "6b95bf83",
   "metadata": {},
   "outputs": [],
   "source": [
    "from ta"
   ]
  }
 ],
 "metadata": {
  "kernelspec": {
   "display_name": "agent",
   "language": "python",
   "name": "python3"
  },
  "language_info": {
   "name": "python",
   "version": "3.11.13"
  }
 },
 "nbformat": 4,
 "nbformat_minor": 5
}
