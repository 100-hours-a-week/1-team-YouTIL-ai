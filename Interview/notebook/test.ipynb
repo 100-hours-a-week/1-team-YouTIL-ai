{
 "cells": [
  {
   "cell_type": "code",
   "execution_count": 1,
   "id": "f37a3115",
   "metadata": {},
   "outputs": [
    {
     "name": "stderr",
     "output_type": "stream",
     "text": [
      "/home/yuri011228/ai2-server/deeplearning/lib/python3.11/site-packages/tqdm/auto.py:21: TqdmWarning: IProgress not found. Please update jupyter and ipywidgets. See https://ipywidgets.readthedocs.io/en/stable/user_install.html\n",
      "  from .autonotebook import tqdm as notebook_tqdm\n"
     ]
    },
    {
     "name": "stdout",
     "output_type": "stream",
     "text": [
      "INFO 05-06 14:49:34 [__init__.py:239] Automatically detected platform cuda.\n"
     ]
    },
    {
     "name": "stderr",
     "output_type": "stream",
     "text": [
      "2025-05-06 14:49:36,652\tINFO util.py:154 -- Missing packages: ['ipywidgets']. Run `pip install -U ipywidgets`, then restart the notebook server for rich notebook output.\n"
     ]
    },
    {
     "name": "stdout",
     "output_type": "stream",
     "text": [
      "INFO 05-06 14:49:45 [config.py:689] This model supports multiple tasks: {'classify', 'generate', 'embed', 'score', 'reward'}. Defaulting to 'generate'.\n",
      "INFO 05-06 14:49:45 [config.py:1901] Chunked prefill is enabled with max_num_batched_tokens=8192.\n",
      "INFO 05-06 14:49:46 [core.py:61] Initializing a V1 LLM engine (v0.8.4) with config: model='/home/yuri011228/ai2-server/models/mistral-7b', speculative_config=None, tokenizer='/home/yuri011228/ai2-server/models/mistral-7b', skip_tokenizer_init=False, tokenizer_mode=auto, revision=None, override_neuron_config=None, tokenizer_revision=None, trust_remote_code=False, dtype=torch.bfloat16, max_seq_len=4096, download_dir=None, load_format=LoadFormat.AUTO, tensor_parallel_size=1, pipeline_parallel_size=1, disable_custom_all_reduce=False, quantization=None, enforce_eager=False, kv_cache_dtype=auto,  device_config=cuda, decoding_config=DecodingConfig(guided_decoding_backend='auto', reasoning_backend=None), observability_config=ObservabilityConfig(show_hidden_metrics=False, otlp_traces_endpoint=None, collect_model_forward_time=False, collect_model_execute_time=False), seed=None, served_model_name=/home/yuri011228/ai2-server/models/mistral-7b, num_scheduler_steps=1, multi_step_stream_outputs=True, enable_prefix_caching=True, chunked_prefill_enabled=True, use_async_output_proc=True, disable_mm_preprocessor_cache=False, mm_processor_kwargs=None, pooler_config=None, compilation_config={\"level\":3,\"custom_ops\":[\"none\"],\"splitting_ops\":[\"vllm.unified_attention\",\"vllm.unified_attention_with_output\"],\"use_inductor\":true,\"compile_sizes\":[],\"use_cudagraph\":true,\"cudagraph_num_of_warmups\":1,\"cudagraph_capture_sizes\":[512,504,496,488,480,472,464,456,448,440,432,424,416,408,400,392,384,376,368,360,352,344,336,328,320,312,304,296,288,280,272,264,256,248,240,232,224,216,208,200,192,184,176,168,160,152,144,136,128,120,112,104,96,88,80,72,64,56,48,40,32,24,16,8,4,2,1],\"max_capture_size\":512}\n",
      "WARNING 05-06 14:49:47 [utils.py:2444] Methods determine_num_available_blocks,device_config,get_cache_block_size_bytes,initialize_cache not implemented in <vllm.v1.worker.gpu_worker.Worker object at 0x7fe3838e2e50>\n",
      "INFO 05-06 14:49:48 [parallel_state.py:959] rank 0 in world size 1 is assigned as DP rank 0, PP rank 0, TP rank 0\n",
      "INFO 05-06 14:49:48 [cuda.py:221] Using Flash Attention backend on V1 engine.\n",
      "INFO 05-06 14:49:48 [gpu_model_runner.py:1276] Starting to load model /home/yuri011228/ai2-server/models/mistral-7b...\n",
      "WARNING 05-06 14:49:48 [topk_topp_sampler.py:69] FlashInfer is not available. Falling back to the PyTorch-native implementation of top-p & top-k sampling. For the best performance, please install FlashInfer.\n"
     ]
    },
    {
     "name": "stderr",
     "output_type": "stream",
     "text": [
      "Loading safetensors checkpoint shards:   0% Completed | 0/3 [00:00<?, ?it/s]\n",
      "Loading safetensors checkpoint shards:  33% Completed | 1/3 [00:24<00:48, 24.23s/it]\n",
      "Loading safetensors checkpoint shards:  67% Completed | 2/3 [00:46<00:22, 22.98s/it]\n",
      "Loading safetensors checkpoint shards: 100% Completed | 3/3 [01:10<00:00, 23.47s/it]\n",
      "Loading safetensors checkpoint shards: 100% Completed | 3/3 [01:10<00:00, 23.46s/it]\n",
      "\n"
     ]
    },
    {
     "name": "stdout",
     "output_type": "stream",
     "text": [
      "INFO 05-06 14:50:59 [loader.py:458] Loading weights took 70.49 seconds\n",
      "INFO 05-06 14:50:59 [gpu_model_runner.py:1291] Model loading took 13.4967 GiB and 70.768037 seconds\n",
      "INFO 05-06 14:51:12 [backends.py:416] Using cache directory: /home/yuri011228/.cache/vllm/torch_compile_cache/8f3f217165/rank_0_0 for vLLM's torch.compile\n",
      "INFO 05-06 14:51:12 [backends.py:426] Dynamo bytecode transform time: 12.84 s\n",
      "INFO 05-06 14:51:13 [backends.py:115] Directly load the compiled graph for shape None from the cache\n",
      "INFO 05-06 14:51:21 [monitor.py:33] torch.compile takes 12.84 s in total\n",
      "INFO 05-06 14:51:23 [kv_cache_utils.py:634] GPU KV cache size: 50,320 tokens\n",
      "INFO 05-06 14:51:23 [kv_cache_utils.py:637] Maximum concurrency for 4,096 tokens per request: 12.29x\n",
      "INFO 05-06 14:51:54 [gpu_model_runner.py:1626] Graph capturing finished in 30 secs, took 0.51 GiB\n",
      "INFO 05-06 14:51:54 [core.py:163] init engine (profile, create kv cache, warmup model) took 54.83 seconds\n",
      "INFO 05-06 14:51:54 [core_client.py:435] Core engine process 0 ready.\n"
     ]
    }
   ],
   "source": [
    "from vllm import AsyncEngineArgs, AsyncLLMEngine\n",
    "\n",
    "mistral = \"/home/yuri011228/ai2-server/models/mistral-7b\"\n",
    "\n",
    "engine_args = AsyncEngineArgs(\n",
    "    model=mistral,\n",
    "    tensor_parallel_size=1, # GPU 개수\n",
    "    gpu_memory_utilization=0.95,\n",
    "    max_num_seqs = 100, # 동시에 받을 수 있는 요청 개수\n",
    "    max_model_len=4096, # input + output 토큰 길이\n",
    "    max_num_batched_tokens=8192) \n",
    "\n",
    "llm = AsyncLLMEngine.from_engine_args(engine_args)"
   ]
  },
  {
   "cell_type": "code",
   "execution_count": 4,
   "id": "a62598b5",
   "metadata": {},
   "outputs": [
    {
     "data": {
      "text/plain": [
       "True"
      ]
     },
     "execution_count": 4,
     "metadata": {},
     "output_type": "execute_result"
    }
   ],
   "source": [
    "import os\n",
    "from dotenv import load_dotenv\n",
    "\n",
    "load_dotenv()\n",
    "\n",
    "#print(\"HOST:\", os.getenv(\"QDRANT_HOST\"))\n",
    "#print(\"PORT:\", os.getenv(\"QDRANT_PORT\"))\n"
   ]
  },
  {
   "cell_type": "code",
   "execution_count": 5,
   "id": "7ccb697a",
   "metadata": {},
   "outputs": [
    {
     "data": {
      "text/plain": [
       "'true'"
      ]
     },
     "execution_count": 5,
     "metadata": {},
     "output_type": "execute_result"
    }
   ],
   "source": [
    "from dotenv import load_dotenv\n",
    "load_dotenv() \n",
    "\n",
    "import os\n",
    "os.environ[\"LANGSMITH_TRACING\"]  # 확인용"
   ]
  },
  {
   "cell_type": "code",
   "execution_count": 6,
   "id": "f29ee368",
   "metadata": {},
   "outputs": [],
   "source": [
    "dummy = {\n",
    "  \"email\": \"ConconDev\",\n",
    "  \"date\": \"2024-09-06\",\n",
    "  \"level\": \"1\",\n",
    "  \"title\": \"알람 구독 서비스 개선: SseEmitter 활용 및 사용자별 Emitter 관리\",\n",
    "  \"keywords\": [\n",
    "    \"SSE\",\n",
    "    \"SseEmitter\",\n",
    "    \"알람 구독\",\n",
    "    \"사용자별 관리\"\n",
    "  ],\n",
    "  \"til\": \"# 알람 구독 서비스 개선: SseEmitter 활용 및 사용자별 Emitter 관리\\n\\n## 1. 오늘 배운 내용\\n\\n오늘 저는 알람 구독 서비스를 개선하기 위해 `SseEmitter`를 활용하고, 각 사용자별로 `SseEmitter`를 저장하고 관리하는 기능을 구현했습니다.  `SseEmitter`는 서버에서 클라이언트로 실시간 데이터를 스트리밍하는 데 유용한 API입니다.\\n\\n## 2. 개념 정리\\n\\n*   **SSE (Server-Sent Events):** 서버에서 클라이언트로 단방향 통신을 가능하게 하는 웹 기술입니다. 서버가 새로운 이벤트 발생 시 클라이언트에게 자동으로 업데이트를 전송합니다.\\n*   **SseEmitter:** SSE 통신을 위한 객체입니다.  데이터를 발행하거나, 연결을 종료하거나, 오류를 처리하는 등의 기능을 제공합니다.\\n*   **ConcurrentHashMap:** 여러 스레드에서 동시에 접근해도 안전하게 데이터를 저장하고 검색할 수 있는 해시맵입니다.  여기서는 사용자 ID를 키로 하고 `SseEmitter`를 값으로 저장하는 데 사용되었습니다.\\n\\n## 3. 해당 개념이 필요한 이유\\n\\n기존 알람 구독 방식은 클라이언트가 주기적으로 서버에 요청을 보내는 방식으로, 서버 부하가 심하고 효율성이 떨어졌습니다. `SseEmitter`를 사용하면 서버는 새로운 알람이 발생했을 때만 클라이언트에 데이터를 전송하므로, 서버 자원을 절약하고 실시간성을 높일 수 있습니다. 또한, 사용자별로 `SseEmitter`를 관리함으로써, 특정 사용자에 대한 알람만 전송하도록 할 수 있어 더욱 효율적인 알람 구독 시스템을 구축할 수 있습니다.\\n\\n## 4. 개념을 활용하는 방법\\n\\n1.  `SseEmitter` 객체를 생성하고 초기화합니다.\\n2.  사용자 ID를 키로, `SseEmitter` 객체를 값으로 `ConcurrentHashMap`에 저장합니다.\\n3.  클라이언트에서 SSE 연결을 설정하고, 서버로부터 데이터를 수신합니다.\\n4.  사용자가 알람 구독/취소 요청을 하면, 해당 사용자의 `SseEmitter`를 업데이트하거나 삭제합니다.\\n\\n## 5. 문제 해결 과정\\n\\n*   처음에는 `SseEmitter`의 생명주기를 제대로 관리하지 못하여 메모리 누수가 발생했습니다.  `SseEmitter` 객체의 `close()` 메서드를 호출하여 리소스 누수를 방지했습니다.\\n*   사용자 ID 중복 문제를 해결하기 위해 사용자 ID를 키로 사용하는 `ConcurrentHashMap`을 사용했습니다.\\n*   클라이언트에서 SSE 연결을 안정적으로 유지하기 위해 에러 핸들링 로직을 추가했습니다.\\n\\n## 6. 하루 회고\\n\\n오늘은 알람 구독 서비스의 성능 개선을 위해 중요한 기술인 `SseEmitter`를 익히고 적용하는 시간을 가졌습니다.  `SseEmitter`의 동작 원리를 이해하고, 실제 서비스에 적용하면서 많은 어려움을 겪었지만, 결국 성공적으로 구현할 수 있었습니다. 앞으로는 `SseEmitter`를 더 깊이 이해하고, 다양한 응용 분야에 적용해보고 싶습니다.\\n\\n## 7. 전체적으로 개조식 문장 구성\\n\\n*   **목표:** 알람 구독 서비스의 실시간성 및 효율성 향상\\n*   **핵심 기술:** SSE, SseEmitter, ConcurrentHashMap\\n*   **구현 단계:**\\n    *   `SseEmitter` 객체 생성 및 초기화\\n    *   사용자별 `SseEmitter` 저장 및 관리 (`ConcurrentHashMap`) \\n    *   SSE 연결 설정 및 데이터 수신\\n    *   알람 구독/취소 요청 처리\\n    *   메모리 누수 방지 및 에러 핸들링\\n\\n\"\n",
    "}"
   ]
  },
  {
   "cell_type": "code",
   "execution_count": 12,
   "id": "cbeec89c",
   "metadata": {},
   "outputs": [],
   "source": [
    "prompt1 = \"\"\"\n",
    "당신은 사용자의 기술 학습 기록을 바탕으로, 기술 면접에 적합한 질문과 답변을 생성하는 AI입니다.\n",
    "\n",
    "아래 정보를 참고하여,\n",
    "[TIL 본문] {til}\n",
    "[선택한 난이도] {level}\n",
    "\n",
    "- 먼저 면접 질문을 만들고, 그 다음 해당 질문에 대한 답변을 작성해주세요.\n",
    "\n",
    "※ level에 따라 질문과 답변의 깊이를 조절하세요:\n",
    "- level \"1\": 깊은 기술 이해와 실무 경험 기반 질문\n",
    "- level \"2\": 개념적 이해를 묻는 질문\n",
    "- level \"3\": 기본 개념을 묻는 질문\n",
    "\n",
    "단 **3개**의 질문과 각 질문에 대한 답변을 작성하세요.\n",
    "모든 질문과 답변은 반드시 **한국어**로 작성하세요.\n",
    "\n",
    "반드시, 아래와 같은 형식으로 3개의 질문과 답변을 출력하세요.\n",
    "\n",
    "question: 질문1\n",
    "answer: 답변1\n",
    "\n",
    "question: 질문2\n",
    "answer: 답변2\n",
    "\n",
    "question: 질문3\n",
    "answer: 답변3\n",
    "\n",
    "\"\"\"\n"
   ]
  },
  {
   "cell_type": "code",
   "execution_count": 29,
   "id": "51a71449",
   "metadata": {},
   "outputs": [],
   "source": [
    "from langgraph.graph import StateGraph\n",
    "from pydantic import BaseModel\n",
    "from typing import List, Optional\n",
    "\n",
    "class ContentState(BaseModel):\n",
    "    question: str\n",
    "    answer: str \n",
    "\n",
    "class QAState(BaseModel):\n",
    "    email: str\n",
    "    date: str\n",
    "    level: int\n",
    "    title: str\n",
    "    keywords: List[str]\n",
    "    til: str\n",
    "\n",
    "    similarity_score: Optional[float] = 0.0\n",
    "\n",
    "    answer_raw: Optional[str] = None\n",
    "\n",
    "    summary: Optional[str] = None\n",
    "    content: Optional[List[ContentState]] = None\n",
    "\n",
    "qa_input = QAState(\n",
    "    email=dummy['email'],\n",
    "    date=dummy['date'],\n",
    "    level=dummy['level'],\n",
    "    title=dummy['title'],\n",
    "    keywords=dummy['keywords'],\n",
    "    til=dummy['til']\n",
    ")\n"
   ]
  },
  {
   "cell_type": "code",
   "execution_count": 35,
   "id": "f3f43b64",
   "metadata": {},
   "outputs": [],
   "source": [
    "# from sentence_transformers import SentenceTransformer\n",
    "\n",
    "# embedding_model = SentenceTransformer(\"BAAI/bge-m3\", device=\"cpu\")\n",
    "\n",
    "async def embedding_node(state: QAState) -> dict:\n",
    "    # title, keywords를 하나의 문장으로 구성\n",
    "    # search_query = state.title + \" \" + \" \".join(state.keywords)\n",
    "    # embedding = embedding_model.encode(search_query).tolist()\n",
    "\n",
    "    return {\n",
    "        \"log\":\"임베딩 노드\"\n",
    "        #**state.dict(),         # 기존 상태 그대로 유지\n",
    "        # \"query_vector\": embedding  # 다음 노드를 위한 추가 정보\n",
    "    }\n",
    "\n",
    "\n",
    "async def retriever_node(state: QAState) -> dict:\n",
    "    return {\"log\":\"검색 노드\"}\n",
    "\n",
    "def route_by_similarity(state: QAState) -> str:\n",
    "    return \"generation\" if state.similarity_score >= 0.75 else \"fallback_generate\"\n",
    "\n",
    "async def generation_node(state: QAState) -> dict:\n",
    "    return {\"log\": \"generation 노드 실행됨\"}\n",
    "\n",
    "async def summary_node(state: QAState) -> dict:\n",
    "    return {\"log_summary\": \"요약 생성 완료\"}\n",
    "\n",
    "async def final_node(state: QAState) -> dict:\n",
    "    return {\"log_final\": \"최종 결과 병합 완료\"}\n",
    "\n",
    "\n"
   ]
  },
  {
   "cell_type": "code",
   "execution_count": 25,
   "id": "d9fca709",
   "metadata": {},
   "outputs": [],
   "source": [
    "from uuid import uuid4\n",
    "from vllm import SamplingParams\n",
    "import json\n",
    "import re\n",
    "\n",
    "\n",
    "async def fallback_generate_node(state: QAState) -> dict:\n",
    "\n",
    "    prompt = prompt1.format(\n",
    "        til=state.til,\n",
    "        level=state.level\n",
    "    )\n",
    "\n",
    "    sampling_params = SamplingParams(\n",
    "        temperature=0.7,\n",
    "        max_tokens=2048,\n",
    "        stop_token_ids=[2],  # EOS token\n",
    "    )\n",
    "\n",
    "    request_id = str(uuid4())\n",
    "    final_text = \"\"\n",
    "\n",
    "    async for output in llm.generate(\n",
    "        prompt=prompt,\n",
    "        sampling_params=sampling_params,\n",
    "        request_id=request_id\n",
    "    ):\n",
    "        final_text = output.outputs[0].text.strip()\n",
    "\n",
    "    return {\n",
    "        \"answer_raw\": final_text\n",
    "    }\n",
    "\n",
    "# async def parsing_node(state: QAState) -> dict:\n",
    "#     try:\n",
    "#         parsed = json.loads(state.answer_raw)\n",
    "#         qa_list = [ContentState(**item) for item in parsed]\n",
    "#         return {\"content\": qa_list}\n",
    "#     except Exception as e:\n",
    "#         print(f\"JSON 파싱 에러: {e}\")\n",
    "#         return {\"content\": []}\n",
    "\n",
    "async def parsing_node(state: QAState) -> dict:\n",
    "    raw = state.answer_raw\n",
    "    qa_list = []\n",
    "\n",
    "    # 정규식으로 \"question: ... answer: ...\" 패턴 추출\n",
    "    pattern = re.findall(r\"question:\\s*(.*?)\\nanswer:\\s*(.*?)(?=\\nquestion:|\\Z)\", raw, re.DOTALL)\n",
    "\n",
    "    for q, a in pattern:\n",
    "        qa_list.append(ContentState(\n",
    "            question=q.strip(),\n",
    "            answer=a.strip()\n",
    "        ))\n",
    "\n",
    "    # fallback\n",
    "    if not qa_list:\n",
    "        qa_list = [ContentState(\n",
    "            question=\"LLM 출력 파싱 실패\",\n",
    "            answer=raw.strip()\n",
    "        )]\n",
    "\n",
    "    return {\"content\": qa_list}\n"
   ]
  },
  {
   "cell_type": "code",
   "execution_count": 111,
   "id": "b1b8b305",
   "metadata": {},
   "outputs": [],
   "source": [
    "# # 생성 → 파싱 테스트 흐름\n",
    "# result = await fallback_generate_node(qa_input)\n",
    "\n",
    "# print(\"LLM 생성된 answer_raw:\")\n",
    "# print(result[\"answer_raw\"])\n",
    "# print(\"\\n---------------------------\\n\")\n",
    "\n",
    "# # QAState에 넣어서 파싱\n",
    "# qa_input.answer_raw = result[\"answer_raw\"]\n",
    "# parsed = await parsing_node(qa_input)\n",
    "\n",
    "# print(\"파싱된 결과:\")\n",
    "# for item in parsed[\"content\"]:\n",
    "#     print(\"질문\", item.question)\n",
    "#     print(\"답변\", item.answer, \"\\n\")\n"
   ]
  },
  {
   "cell_type": "code",
   "execution_count": 36,
   "id": "51f30595",
   "metadata": {},
   "outputs": [
    {
     "name": "stdout",
     "output_type": "stream",
     "text": [
      "INFO 05-06 15:22:57 [async_llm.py:228] Added request d42941c2-629f-42eb-9714-e6f735785290.\n"
     ]
    }
   ],
   "source": [
    "# 그래프 정의 및 구성\n",
    "from langgraph.graph import END\n",
    "from langchain_core.runnables import RunnableLambda\n",
    "\n",
    "workflow = StateGraph(QAState)\n",
    "\n",
    "# 노드 선언\n",
    "workflow.add_node(\"embedding\", \n",
    "    RunnableLambda(embedding_node).with_config({\n",
    "        \"run_name\": \"embedding\"}))\n",
    "workflow.add_node(\"retriever\", \n",
    "    RunnableLambda(retriever_node).with_config({\n",
    "        \"run_name\": \"retriever\"}))\n",
    "workflow.add_node(\"generation\", \n",
    "    RunnableLambda(generation_node).with_config({\n",
    "        \"run_name\": \"generation\"}))\n",
    "workflow.add_node(\"fallback_generate\", \n",
    "    RunnableLambda(fallback_generate_node).with_config({\n",
    "        \"run_name\": \"fallback_generate\"}))\n",
    "workflow.add_node(\"parsing\",\n",
    "    RunnableLambda(parsing_node).with_config({\n",
    "        \"run_name\": \"parsing\"}))\n",
    "workflow.add_node(\"summary_node\", \n",
    "    RunnableLambda(summary_node).with_config({\n",
    "        \"run_name\": \"summary_node\"}))\n",
    "workflow.add_node(\"final\", \n",
    "    RunnableLambda(final_node).with_config({\n",
    "        \"run_name\": \"final\"}))\n",
    "\n",
    "# 시작 지점 설정\n",
    "workflow.set_entry_point(\"embedding\")\n",
    "workflow.add_edge(\"embedding\", \"retriever\")\n",
    "\n",
    "# 조건부 분기\n",
    "def route_by_similarity(state: QAState) -> str:\n",
    "    return \"generation\" if state.similarity_score >= 0.75 else \"fallback_generate\"\n",
    "\n",
    "workflow.add_conditional_edges(\n",
    "    \"retriever\",\n",
    "    route_by_similarity,\n",
    "    {\n",
    "        \"generation\": \"generation\",\n",
    "        \"fallback_generate\": \"fallback_generate\"\n",
    "    })\n",
    "\n",
    "# 병렬 분기: generation / fallback → parsing + summary\n",
    "workflow.add_edge(\"generation\", \"parsing\")\n",
    "workflow.add_edge(\"generation\", \"summary_node\")\n",
    "workflow.add_edge(\"fallback_generate\", \"parsing\")\n",
    "workflow.add_edge(\"fallback_generate\", \"summary_node\")\n",
    "\n",
    "# parsing, summary → final\n",
    "workflow.add_edge(\"parsing\", \"final\")\n",
    "workflow.add_edge(\"summary_node\", \"final\")\n",
    "\n",
    "# 종료 지점 설정\n",
    "workflow.set_finish_point(\"final\")\n",
    "\n",
    "graph = workflow.compile()\n",
    "result = await graph.ainvoke(qa_input)"
   ]
  },
  {
   "cell_type": "code",
   "execution_count": 37,
   "id": "9279e9b3",
   "metadata": {},
   "outputs": [
    {
     "data": {
      "image/png": "[encoded data removed]",
      "text/plain": [
       "<langgraph.graph.state.CompiledStateGraph object at 0x7fe38014fdd0>"
      ]
     },
     "execution_count": 37,
     "metadata": {},
     "output_type": "execute_result"
    }
   ],
   "source": [
    "graph"
   ]
  },
  {
   "cell_type": "code",
   "execution_count": 8,
   "id": "36a5cf6b",
   "metadata": {},
   "outputs": [
    {
     "name": "stdout",
     "output_type": "stream",
     "text": [
      "질문:  SSE와는 무엇이 다른가요? HTTP push 기술인 WebSocket과는 어떤 차이점이 있나요?\n",
      "답변:  SSE (Server-Sent Events)는 서버에서 단방향으로 클라이언트에 데이터를 전송하는 웹 기술입니다. WebSocket은 양방향으로 데이터를 전송할 수 있는 웹 기술입니다. 따라서, SSE는 서버가 새로운 데이터를 발생시키면 자동으로 클라이언트에게 전송하는 반면, WebSocket은 클라이언트와 서버 모두가 데이터를 송수신할 수 있습니다.\n",
      "\n",
      "\n",
      "질문:  SseEmitter를 사용하여 알람 구독 서비스를 구현하는 데 어떤 장점이 있나요?\n",
      "답변:  SseEmitter를 사용하여 알람 구독 서비스를 구현하면, 서버는 새로운 알람이 발생할 때만 클라이언트에 데이터를 전송하므로, 서버 자원을 절약하고 실시간성을 높일 수 있습니다. 또한, 사용자별로 SseEmitter를 관리함으로써, 특정 사용자에 대한 알람만 전송하도록 할 수 있어 더욱 효율적인 알람 구독 시스템을 구축할 수 있습니다.\n",
      "\n",
      "\n",
      "질문:  ConcurrentHashMap에 대해 설명해주세요.\n",
      "답변:  ConcurrentHashMap은 여러 스레드에서 동시에 접근해도 안전하게 데이터를 저장하고 검색할 수 있는 해시맵입니다. 이는 일반적인 HashMap과 달리, ConcurrentHashMap은 락을 사용하지 않고, 锁-free 또는 잠재적으로 로볼링 해싱을 사용하여 멀티 스레드 환경에서 성능을 높일 수 있습니다. 이 해시맵에서는 사용자 ID를 키로, SseEmitter 객체를 값으로 저장하여, 사용자별로 SseEmitter를 관리하고 업데이트할 수 있습니다.\n",
      "\n",
      "\n"
     ]
    }
   ],
   "source": [
    "for item in result[\"content\"]:\n",
    "    print(\"질문: \", item.question)\n",
    "    print(\"답변: \", item.answer)\n",
    "    print(\"\\n\")"
   ]
  },
  {
   "cell_type": "code",
   "execution_count": 9,
   "id": "aae554f5",
   "metadata": {},
   "outputs": [
    {
     "data": {
      "image/png": "[encoded data removed]",
      "text/plain": [
       "<langgraph.graph.state.CompiledStateGraph object at 0x7ff2939a8cd0>"
      ]
     },
     "execution_count": 9,
     "metadata": {},
     "output_type": "execute_result"
    }
   ],
   "source": [
    "graph"
   ]
  },
  {
   "cell_type": "code",
   "execution_count": null,
   "id": "5a09af0b",
   "metadata": {},
   "outputs": [
    {
     "data": {
      "text/plain": [
       "'이건 입력에 대한 질문입니다: LangGraph 연동 테스트'"
      ]
     },
     "execution_count": 15,
     "metadata": {},
     "output_type": "execute_result"
    }
   ],
   "source": [
    "# from dotenv import load_dotenv\n",
    "# from langsmith import traceable\n",
    "\n",
    "# load_dotenv()\n",
    "\n",
    "# @traceable(name=\"generate-question\")\n",
    "# def generate_question(input_text: str) -> str:\n",
    "#     return f\"이건 입력에 대한 질문입니다: {input_text}\"\n",
    "\n",
    "# generate_question(\"LangGraph 연동 테스트\")"
   ]
  },
  {
   "cell_type": "code",
   "execution_count": null,
   "id": "26538afb",
   "metadata": {},
   "outputs": [],
   "source": []
  }
 ],
 "metadata": {
  "kernelspec": {
   "display_name": "deeplearning",
   "language": "python",
   "name": "python3"
  },
  "language_info": {
   "codemirror_mode": {
    "name": "ipython",
    "version": 3
   },
   "file_extension": ".py",
   "mimetype": "text/x-python",
   "name": "python",
   "nbconvert_exporter": "python",
   "pygments_lexer": "ipython3",
   "version": "3.11.12"
  }
 },
 "nbformat": 4,
 "nbformat_minor": 5
}
