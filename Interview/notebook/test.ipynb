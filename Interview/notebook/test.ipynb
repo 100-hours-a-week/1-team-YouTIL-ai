{
 "cells": [
  {
   "cell_type": "code",
   "execution_count": null,
   "id": "f37a3115",
   "metadata": {},
   "outputs": [],
   "source": [
    "from vllm import AsyncEngineArgs, AsyncLLMEngine, SamplingParams\n",
    "\n",
    "mistral = \"/home/yuri011228/ai2-server/models/mistral-7b\"\n",
    "\n",
    "engine_args = AsyncEngineArgs(\n",
    "    model=mistral,\n",
    "    tensor_parallel_size=1, # GPU 개수\n",
    "    gpu_memory_utilization=0.95,\n",
    "    max_num_seqs = 100, # 동시에 받을 수 있는 요청 개수\n",
    "    max_model_len=4096, # input + output 토근 길이\n",
    "    max_num_batched_tokens=8192) \n",
    "\n",
    "llm = AsyncLLMEngine.from_engine_args(engine_args)"
   ]
  },
  {
   "cell_type": "code",
   "execution_count": 121,
   "id": "7ccb697a",
   "metadata": {},
   "outputs": [
    {
     "data": {
      "text/plain": [
       "'true'"
      ]
     },
     "execution_count": 121,
     "metadata": {},
     "output_type": "execute_result"
    }
   ],
   "source": [
    "from dotenv import load_dotenv\n",
    "load_dotenv() \n",
    "\n",
    "import os\n",
    "os.environ[\"LANGSMITH_TRACING\"]  # 확인용"
   ]
  },
  {
   "cell_type": "code",
   "execution_count": 113,
   "id": "f29ee368",
   "metadata": {},
   "outputs": [],
   "source": [
    "dummy = {\n",
    "  \"email\": \"ConconDev\",\n",
    "  \"date\": \"2024-09-06\",\n",
    "  \"level\": \"1\",\n",
    "  \"title\": \"알람 구독 서비스 개선: SseEmitter 활용 및 사용자별 Emitter 관리\",\n",
    "  \"keywords\": [\n",
    "    \"SSE\",\n",
    "    \"SseEmitter\",\n",
    "    \"알람 구독\",\n",
    "    \"사용자별 관리\"\n",
    "  ],\n",
    "  \"til\": \"# 알람 구독 서비스 개선: SseEmitter 활용 및 사용자별 Emitter 관리\\n\\n## 1. 오늘 배운 내용\\n\\n오늘 저는 알람 구독 서비스를 개선하기 위해 `SseEmitter`를 활용하고, 각 사용자별로 `SseEmitter`를 저장하고 관리하는 기능을 구현했습니다.  `SseEmitter`는 서버에서 클라이언트로 실시간 데이터를 스트리밍하는 데 유용한 API입니다.\\n\\n## 2. 개념 정리\\n\\n*   **SSE (Server-Sent Events):** 서버에서 클라이언트로 단방향 통신을 가능하게 하는 웹 기술입니다. 서버가 새로운 이벤트 발생 시 클라이언트에게 자동으로 업데이트를 전송합니다.\\n*   **SseEmitter:** SSE 통신을 위한 객체입니다.  데이터를 발행하거나, 연결을 종료하거나, 오류를 처리하는 등의 기능을 제공합니다.\\n*   **ConcurrentHashMap:** 여러 스레드에서 동시에 접근해도 안전하게 데이터를 저장하고 검색할 수 있는 해시맵입니다.  여기서는 사용자 ID를 키로 하고 `SseEmitter`를 값으로 저장하는 데 사용되었습니다.\\n\\n## 3. 해당 개념이 필요한 이유\\n\\n기존 알람 구독 방식은 클라이언트가 주기적으로 서버에 요청을 보내는 방식으로, 서버 부하가 심하고 효율성이 떨어졌습니다. `SseEmitter`를 사용하면 서버는 새로운 알람이 발생했을 때만 클라이언트에 데이터를 전송하므로, 서버 자원을 절약하고 실시간성을 높일 수 있습니다. 또한, 사용자별로 `SseEmitter`를 관리함으로써, 특정 사용자에 대한 알람만 전송하도록 할 수 있어 더욱 효율적인 알람 구독 시스템을 구축할 수 있습니다.\\n\\n## 4. 개념을 활용하는 방법\\n\\n1.  `SseEmitter` 객체를 생성하고 초기화합니다.\\n2.  사용자 ID를 키로, `SseEmitter` 객체를 값으로 `ConcurrentHashMap`에 저장합니다.\\n3.  클라이언트에서 SSE 연결을 설정하고, 서버로부터 데이터를 수신합니다.\\n4.  사용자가 알람 구독/취소 요청을 하면, 해당 사용자의 `SseEmitter`를 업데이트하거나 삭제합니다.\\n\\n## 5. 문제 해결 과정\\n\\n*   처음에는 `SseEmitter`의 생명주기를 제대로 관리하지 못하여 메모리 누수가 발생했습니다.  `SseEmitter` 객체의 `close()` 메서드를 호출하여 리소스 누수를 방지했습니다.\\n*   사용자 ID 중복 문제를 해결하기 위해 사용자 ID를 키로 사용하는 `ConcurrentHashMap`을 사용했습니다.\\n*   클라이언트에서 SSE 연결을 안정적으로 유지하기 위해 에러 핸들링 로직을 추가했습니다.\\n\\n## 6. 하루 회고\\n\\n오늘은 알람 구독 서비스의 성능 개선을 위해 중요한 기술인 `SseEmitter`를 익히고 적용하는 시간을 가졌습니다.  `SseEmitter`의 동작 원리를 이해하고, 실제 서비스에 적용하면서 많은 어려움을 겪었지만, 결국 성공적으로 구현할 수 있었습니다. 앞으로는 `SseEmitter`를 더 깊이 이해하고, 다양한 응용 분야에 적용해보고 싶습니다.\\n\\n## 7. 전체적으로 개조식 문장 구성\\n\\n*   **목표:** 알람 구독 서비스의 실시간성 및 효율성 향상\\n*   **핵심 기술:** SSE, SseEmitter, ConcurrentHashMap\\n*   **구현 단계:**\\n    *   `SseEmitter` 객체 생성 및 초기화\\n    *   사용자별 `SseEmitter` 저장 및 관리 (`ConcurrentHashMap`) \\n    *   SSE 연결 설정 및 데이터 수신\\n    *   알람 구독/취소 요청 처리\\n    *   메모리 누수 방지 및 에러 핸들링\\n\\n\"\n",
    "}"
   ]
  },
  {
   "cell_type": "code",
   "execution_count": 114,
   "id": "cbeec89c",
   "metadata": {},
   "outputs": [],
   "source": [
    "prompt1 = \"\"\"\n",
    "당신은 사용자의 기술 학습 기록을 바탕으로, 기술 면접에 적합한 질문과 답변을 생성하는 AI입니다.\n",
    "\n",
    "아래 정보를 참고하여,\n",
    "[TIL 본문] {til}\n",
    "[선택한 난이도] {level}\n",
    "\n",
    "- 먼저 면접 질문을 만들고, 그 다음 해당 질문에 대한 답변을 작성해주세요.\n",
    "\n",
    "※ level에 따라 질문과 답변의 깊이를 조절하세요:\n",
    "- level \"1\": 깊은 기술 이해와 실무 경험 기반 질문\n",
    "- level \"2\": 개념적 이해를 묻는 질문\n",
    "- level \"3\": 기본 개념을 묻는 질문\n",
    "\n",
    "단 **3개**의 질문과 각 질문에 대한 답변을 작성하세요.\n",
    "모든 질문과 답변은 반드시 **한국어**로 작성하세요.\n",
    "\n",
    "반드시, 아래와 같은 형식으로 3개의 질문과 답변을 출력하세요.\n",
    "\n",
    "question: 질문1\n",
    "answer: 답변1\n",
    "\n",
    "question: 질문2\n",
    "answer: 답변2\n",
    "\n",
    "question: 질문3\n",
    "answer: 답변3\n",
    "\n",
    "\"\"\"\n"
   ]
  },
  {
   "cell_type": "code",
   "execution_count": 115,
   "id": "51a71449",
   "metadata": {},
   "outputs": [],
   "source": [
    "from langgraph.graph import StateGraph\n",
    "from pydantic import BaseModel\n",
    "from typing import List, Optional\n",
    "\n",
    "class ContentState(BaseModel):\n",
    "    question: str\n",
    "    answer: str \n",
    "\n",
    "class QAState(BaseModel):\n",
    "    email: str\n",
    "    date: str\n",
    "    level: int\n",
    "    title: str\n",
    "    keywords: List[str]\n",
    "    til: str\n",
    "    \n",
    "    answer_raw: Optional[str] = None\n",
    "\n",
    "    summary: Optional[str] = None\n",
    "    content: Optional[List[ContentState]] = None\n",
    "\n",
    "qa_input = QAState(\n",
    "    email=dummy['email'],\n",
    "    date=dummy['date'],\n",
    "    level=dummy['level'],\n",
    "    title=dummy['title'],\n",
    "    keywords=dummy['keywords'],\n",
    "    til=dummy['til']\n",
    ")\n"
   ]
  },
  {
   "cell_type": "code",
   "execution_count": 126,
   "id": "d9fca709",
   "metadata": {},
   "outputs": [],
   "source": [
    "from uuid import uuid4\n",
    "from vllm import SamplingParams\n",
    "import json\n",
    "import re\n",
    "\n",
    "async def fallback_generate_node(state: QAState) -> dict:\n",
    "\n",
    "    prompt = prompt1.format(\n",
    "        til=state.til,\n",
    "        level=state.level\n",
    "    )\n",
    "\n",
    "    sampling_params = SamplingParams(\n",
    "        temperature=0.7,\n",
    "        max_tokens=2048,\n",
    "        stop_token_ids=[2],  # EOS token\n",
    "    )\n",
    "\n",
    "    request_id = str(uuid4())\n",
    "    final_text = \"\"\n",
    "\n",
    "    async for output in llm.generate(\n",
    "        prompt=prompt,\n",
    "        sampling_params=sampling_params,\n",
    "        request_id=request_id\n",
    "    ):\n",
    "        final_text = output.outputs[0].text.strip()\n",
    "\n",
    "    return {\n",
    "        \"answer_raw\": final_text\n",
    "    }\n",
    "\n",
    "# async def parsing_node(state: QAState) -> dict:\n",
    "#     try:\n",
    "#         parsed = json.loads(state.answer_raw)\n",
    "#         qa_list = [ContentState(**item) for item in parsed]\n",
    "#         return {\"content\": qa_list}\n",
    "#     except Exception as e:\n",
    "#         print(f\"JSON 파싱 에러: {e}\")\n",
    "#         return {\"content\": []}\n",
    "\n",
    "async def parsing_node(state: QAState) -> dict:\n",
    "    raw = state.answer_raw\n",
    "    qa_list = []\n",
    "\n",
    "    # 정규식으로 \"question: ... answer: ...\" 패턴 추출\n",
    "    pattern = re.findall(r\"question:\\s*(.*?)\\nanswer:\\s*(.*?)(?=\\nquestion:|\\Z)\", raw, re.DOTALL)\n",
    "\n",
    "    for q, a in pattern:\n",
    "        qa_list.append(ContentState(\n",
    "            question=q.strip(),\n",
    "            answer=a.strip()\n",
    "        ))\n",
    "\n",
    "    # fallback\n",
    "    if not qa_list:\n",
    "        qa_list = [ContentState(\n",
    "            question=\"LLM 출력 파싱 실패\",\n",
    "            answer=raw.strip()\n",
    "        )]\n",
    "\n",
    "    return {\"content\": qa_list}\n"
   ]
  },
  {
   "cell_type": "code",
   "execution_count": 111,
   "id": "b1b8b305",
   "metadata": {},
   "outputs": [],
   "source": [
    "# # 생성 → 파싱 테스트 흐름\n",
    "# result = await fallback_generate_node(qa_input)\n",
    "\n",
    "# print(\"LLM 생성된 answer_raw:\")\n",
    "# print(result[\"answer_raw\"])\n",
    "# print(\"\\n---------------------------\\n\")\n",
    "\n",
    "# # QAState에 넣어서 파싱\n",
    "# qa_input.answer_raw = result[\"answer_raw\"]\n",
    "# parsed = await parsing_node(qa_input)\n",
    "\n",
    "# print(\"파싱된 결과:\")\n",
    "# for item in parsed[\"content\"]:\n",
    "#     print(\"질문\", item.question)\n",
    "#     print(\"답변\", item.answer, \"\\n\")\n"
   ]
  },
  {
   "cell_type": "code",
   "execution_count": 127,
   "id": "51f30595",
   "metadata": {},
   "outputs": [
    {
     "name": "stdout",
     "output_type": "stream",
     "text": [
      "INFO 05-01 10:03:56 [async_llm.py:228] Added request 020af01c-be12-4ef1-8648-24f54abf7a09.\n"
     ]
    }
   ],
   "source": [
    "# 그래프 정의 및 구성\n",
    "from langgraph.graph import END\n",
    "from langchain_core.runnables import RunnableLambda\n",
    "\n",
    "workflow = StateGraph(QAState)\n",
    "\n",
    "# 노드 선언\n",
    "workflow.add_node(\"fallback_generate\", \n",
    "    RunnableLambda(fallback_generate_node).with_config({\n",
    "        \"run_name\": \"fallback_generate\"}))\n",
    "workflow.add_node(\"parsing\",\n",
    "    RunnableLambda(parsing_node).with_config({\n",
    "        \"run_name\": \"parsing\"}))\n",
    "\n",
    "# 엣지 연결\n",
    "workflow.set_entry_point(\"fallback_generate\")\n",
    "workflow.add_edge(\"fallback_generate\", \"parsing\")\n",
    "workflow.set_finish_point(\"parsing\")\n",
    "\n",
    "graph = workflow.compile()\n",
    "\n",
    "result = await graph.ainvoke(qa_input)"
   ]
  },
  {
   "cell_type": "code",
   "execution_count": 128,
   "id": "36a5cf6b",
   "metadata": {},
   "outputs": [
    {
     "name": "stdout",
     "output_type": "stream",
     "text": [
      "질문:  SSE와는 무엇이 다른가? HTTP와의 차이는 무엇인가?\n",
      "답변:  SSE(Server-Sent Events)는 서버에서 클라이언트로 단방향 통신을 위한 웹 기술입니다. HTTP(Hypertext Transfer Protocol)는 클라이언트가 서버에 요청을 보내고, 서버가 결과를 반환하는 통신 프로토콜입니다. SSE는 서버가 새로운 데이터를 발생시켰을 때 자동으로 클라이언트에 데이터를 전송합니다. 반면, HTTP는 클라이언트가 서버에 요청을 보내야만 데이터를 받을 수 있습니다. 따라서, SSE를 사용하면 실시간 데이터를 처리하는 데 유리합니다.\n",
      "\n",
      "\n",
      "질문:  `SseEmitter`와는 무엇이 다른가? 왜 `ConcurrentHashMap`을 사용하는가?\n",
      "답변:  `SseEmitter`는 SSE 통신을 위한 객체입니다. 데이터를 발행하거나, 연결을 종료하거나, 오류를 처리하는 등의 기능을 제공합니다. `ConcurrentHashMap`, 반면, 여러 스레드에서 동시에 접근하여도 안전하게 데이터를 저장하고 검색할 수 있는 해시맵입니다. `SseEmitter`을 사용하여 알람 구독 서비스를 개선하기 위해, 각 사용자에 대한 `SseEmitter`를 저장하고 관리하는 `ConcurrentHashMap`을 사용했습니다.\n",
      "\n",
      "\n",
      "질문:  `SseEmitter` 객체의 생명주기 관리와 무슨 문제가 발생했는가? 어떻게 해결했습니까?\n",
      "답변:  `SseEmitter` 객체의 생명주기를 제대로 관리하지 못하면 메모리 누수가 발생합니다. 즉, `SseEmitter` 객체가 더 이상 사용되지 않아도 메모리에서 삭제되지 않는 상태가 된다. 이를 방지하기 위해, `SseEmitter` 객체의 `close()` 메서드를 호출하여 리소스를 정리하면 됩니다. 처음에는 이 로직을 제대로 구현하지 못했던 것으로 인해 메모리 누수가 발생했습니다.\n",
      "\n",
      "\n"
     ]
    }
   ],
   "source": [
    "for item in result[\"content\"]:\n",
    "    print(\"질문: \", item.question)\n",
    "    print(\"답변: \", item.answer)\n",
    "    print(\"\\n\")"
   ]
  },
  {
   "cell_type": "code",
   "execution_count": 120,
   "id": "aae554f5",
   "metadata": {},
   "outputs": [
    {
     "data": {
      "image/png": "[encoded data removed]",
      "text/plain": [
       "<langgraph.graph.state.CompiledStateGraph object at 0x7ff37b66cd90>"
      ]
     },
     "execution_count": 120,
     "metadata": {},
     "output_type": "execute_result"
    }
   ],
   "source": [
    "graph"
   ]
  },
  {
   "cell_type": "code",
   "execution_count": null,
   "id": "5a09af0b",
   "metadata": {},
   "outputs": [
    {
     "data": {
      "text/plain": [
       "'이건 입력에 대한 질문입니다: LangGraph 연동 테스트'"
      ]
     },
     "execution_count": 15,
     "metadata": {},
     "output_type": "execute_result"
    }
   ],
   "source": [
    "# from dotenv import load_dotenv\n",
    "# from langsmith import traceable\n",
    "\n",
    "# load_dotenv()\n",
    "\n",
    "# @traceable(name=\"generate-question\")\n",
    "# def generate_question(input_text: str) -> str:\n",
    "#     return f\"이건 입력에 대한 질문입니다: {input_text}\"\n",
    "\n",
    "# generate_question(\"LangGraph 연동 테스트\")"
   ]
  },
  {
   "cell_type": "code",
   "execution_count": null,
   "id": "26538afb",
   "metadata": {},
   "outputs": [],
   "source": []
  }
 ],
 "metadata": {
  "kernelspec": {
   "display_name": "Python 3.11 (deeplearning)",
   "language": "python",
   "name": "deeplearning"
  },
  "language_info": {
   "codemirror_mode": {
    "name": "ipython",
    "version": 3
   },
   "file_extension": ".py",
   "mimetype": "text/x-python",
   "name": "python",
   "nbconvert_exporter": "python",
   "pygments_lexer": "ipython3",
   "version": "3.11.12"
  }
 },
 "nbformat": 4,
 "nbformat_minor": 5
}
