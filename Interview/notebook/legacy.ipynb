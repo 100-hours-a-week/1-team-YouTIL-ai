from vllm import SamplingParams
import uuid

prom="""
당신은 사용자의 기술 학습 기록을 바탕으로, 기술 면접에 적합한 질문과 답변을 생성하는 AI입니다.

아래 정보를 참고하여,
[TIL 본문] {til}
[선택한 난이도] {level}

- 먼저 면접 질문을 만들고, 그 다음 해당 질문에 대한 답변을 작성해주세요.

※ level에 따라 질문과 답변의 깊이를 조절하세요:
- level "1": 깊은 기술 이해와 실무 경험 기반 질문
- level "2": 개념적 이해를 묻는 질문
- level "3": 기본 개념을 묻는 질문

단 **3개**의 질문과 각 질문에 대한 답변을 작성하세요.
모든 질문과 답변은 반드시 **한국어**로 작성하세요.

출력은 반드시 아래 형식을 따르세요:
[질문1]:
<질문 내용>

[답변1]:
<답변 내용>

[질문2]:
<질문 내용>

[답변2]:
<답변 내용>

[질문3]:
<질문 내용>

[답변3]:
<답변 내용>

"""

prompt = prom.format(
    til=dummy['til'],
    level=dummy['level']
)

# 샘플링 설정
sampling_params = SamplingParams(
    temperature=0.7,
    max_tokens=1024,
)

request_id = str(uuid.uuid4())

# async로 LLM 추론 실행
async def generate_output():
    prev_text = ""

    async for output in llm.generate(prompt, sampling_params, request_id=request_id):
        current = output.outputs[0].text
        delta = current[len(prev_text):]  # 새로운 부분만 추출
        print(delta, end="", flush=True)
        prev_text = current  # 상태 업데이트

await generate_output()