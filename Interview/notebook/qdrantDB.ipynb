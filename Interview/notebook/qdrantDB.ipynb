{
 "cells": [
  {
   "cell_type": "code",
   "execution_count": null,
   "metadata": {},
   "outputs": [],
   "source": []
  },
  {
   "cell_type": "code",
   "execution_count": 5,
   "metadata": {},
   "outputs": [
    {
     "name": "stdout",
     "output_type": "stream",
     "text": [
      "서버 전송 이벤트(Server-sent events, SSE)는 클라이언트가 HTTP 연결을 통해 서버로부터 자동 업데이트를 수신할 수 있도록 하는 서버 푸시 기술이며, 초기 클라이언트 연결이 설정된 후 서버가 클라이언트를 향한 데이터 전송을 시작하는 방법을 설명한다. 이는 일반적으로 브라우저 클라이언트에 메시지 업데이트 또는 지속적인 데이터 스트림을 보내는 데 사용되며 클라이언트가 이벤트 스트림을 수신하기 위해 특정 URL을 요청하는 EventSource라는 자바스크립트 API를 통해 기본 브라우저 간 스트리밍을 향상시키도록 설계되었다. EventSource API는 WHATWG에 의해 HTML Living Standard의 일부로 표준화되었다. SSE의 미디어 유형은 text/event-stream이다.\n",
      "파이어폭스 6+, 구글 크롬 6+, 오페라 11.5+, 사파리 5+, 마이크로소프트 엣지 79+ 등 모든 최신 브라우저는 서버에서 전송되는 이벤트를 지원한다.\n",
      "\n",
      "\n",
      "== 역사 ==\n",
      "SSE 메커니즘은 2004년에 시작된 \"WHATWG 웹 애플리케이션 1.0\" 제안의 일부로 이안 힉슨(Ian Hickson)에 의해 처음 지정되었다. 2006년 9월 오페라 웹 브라우저는 \"서버 전송 이벤트\"라는 기능으로 실험적 기술을 구현했다.\n",
      "\n",
      "\n",
      "== 예시 ==\n",
      "\n",
      "\n",
      "== 같이 보기 ==\n",
      "푸시 기법\n",
      "코멧 (프로그래밍)\n",
      "\n",
      "\n",
      "== 각주 ==\n",
      "\n",
      "\n",
      "== 외부 링크 ==\n",
      "Server-Sent Events. HTML Living Standard.\n",
      "HTML5 Server-push Technologies, Part 1. Introduction into HTML5 Server-push Technologies. Part 1 covers ServerSent Events.\n",
      "Using Server-Sent Events. A concise example of how to use server-sent events, on the Mozilla Developer Network.\n",
      "EventSource reference on MDN\n",
      "Django push: Using Server-Sent Events and WebSocket with Django Django push: Using Server-Sent Events and WebSocket with Django.\n",
      "Server-Sent Events vs WebSockets\n"
     ]
    }
   ],
   "source": [
    "import wikipedia\n",
    "\n",
    "wikipedia.set_lang(\"ko\")\n",
    "page = wikipedia.page(\"서버 전송 이벤트\")\n",
    "raw_text = page.content\n",
    "\n",
    "print(raw_text[:5000])  # 일부 미리보기"
   ]
  },
  {
   "cell_type": "code",
   "execution_count": 6,
   "metadata": {},
   "outputs": [
    {
     "name": "stdout",
     "output_type": "stream",
     "text": [
      "총 3개의 청크가 생성됨.\n"
     ]
    }
   ],
   "source": [
    "from langchain.text_splitter import RecursiveCharacterTextSplitter\n",
    "\n",
    "splitter = RecursiveCharacterTextSplitter(\n",
    "    chunk_size=500,\n",
    "    chunk_overlap=50\n",
    ")\n",
    "\n",
    "chunks = splitter.split_text(raw_text)\n",
    "print(f\"총 {len(chunks)}개의 청크가 생성됨.\")"
   ]
  },
  {
   "cell_type": "code",
   "execution_count": 7,
   "metadata": {},
   "outputs": [],
   "source": [
    "from sentence_transformers import SentenceTransformer\n",
    "\n",
    "embedding_model = SentenceTransformer(\"BAAI/bge-m3\", device=\"cpu\")\n",
    "vectors = embedding_model.encode(chunks)\n"
   ]
  },
  {
   "cell_type": "code",
   "execution_count": null,
   "metadata": {},
   "outputs": [],
   "source": []
  },
  {
   "cell_type": "code",
   "execution_count": null,
   "metadata": {},
   "outputs": [],
   "source": [
    "from qdrant_client import QdrantClient\n",
    "from qdrant_client.models import PointStruct, VectorParams, Distance\n",
    "\n",
    "client = QdrantClient(host=\"localhost\", port=6333)\n",
    "\n",
    "# 예: backend 컬렉션 만들기 (처음 1회만)\n",
    "client.recreate_collection(\n",
    "    collection_name=\"backend\",\n",
    "    vectors_config=VectorParams(size=768, distance=Distance.COSINE)\n",
    ")\n",
    "\n",
    "# 벡터 업서트 (ID 중복 방지를 위해 hash 사용)\n",
    "points = [\n",
    "    PointStruct(\n",
    "        id=abs(hash(chunk)),\n",
    "        vector=vec.tolist(),\n",
    "        payload={\"text\": chunk, \"source\": \"backend\", \"title\": \"서버 전송 이벤트\"}\n",
    "    )\n",
    "    for chunk, vec in zip(chunks, vectors)\n",
    "]\n",
    "\n",
    "client.upsert(collection_name=\"backend\", points=points)\n"
   ]
  }
 ],
 "metadata": {
  "kernelspec": {
   "display_name": "deeplearning",
   "language": "python",
   "name": "python3"
  },
  "language_info": {
   "codemirror_mode": {
    "name": "ipython",
    "version": 3
   },
   "file_extension": ".py",
   "mimetype": "text/x-python",
   "name": "python",
   "nbconvert_exporter": "python",
   "pygments_lexer": "ipython3",
   "version": "3.11.12"
  }
 },
 "nbformat": 4,
 "nbformat_minor": 2
}
