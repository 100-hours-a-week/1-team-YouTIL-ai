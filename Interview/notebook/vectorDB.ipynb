{
 "cells": [
  {
   "cell_type": "code",
   "execution_count": 1,
   "metadata": {},
   "outputs": [],
   "source": [
    "import requests\n",
    "\n",
    "def download_and_parse_github_markdown(raw_url):\n",
    "    response = requests.get(raw_url)\n",
    "    content = response.text\n",
    "\n",
    "    lines = content.split('\\n')\n",
    "    questions = []\n",
    "    current_category = None\n",
    "\n",
    "    for line in lines:\n",
    "        line = line.strip()\n",
    "\n",
    "        if line.startswith(\"## \") and not line.startswith(\"###\"):\n",
    "            current_category = line.replace(\"##\", \"\").strip()\n",
    "\n",
    "        elif line.startswith(\"- \"):\n",
    "            question = line[2:].strip()\n",
    "            questions.append({\n",
    "                \"question\": question,\n",
    "                \"category\": current_category\n",
    "            })\n",
    "\n",
    "    return questions"
   ]
  },
  {
   "cell_type": "code",
   "execution_count": 3,
   "metadata": {},
   "outputs": [
    {
     "name": "stdout",
     "output_type": "stream",
     "text": [
      "288\n"
     ]
    }
   ],
   "source": [
    "raw_md_url = \"https://raw.githubusercontent.com/zzsza/Datascience-Interview-Questions/refs/heads/master/README.md\"\n",
    "questions = download_and_parse_github_markdown(raw_md_url)\n",
    "filltered_questions=[]\n",
    "\n",
    "for q in questions:\n",
    "  category = q.get(\"category\")\n",
    "\n",
    "  if category not in [\"Contents\", \"Intro\", \"Reference\"] and category is not None:\n",
    "    filltered_questions.append(q)\n",
    "\n",
    "print(len(filltered_questions))\n",
    "# for i in filltered_questions:\n",
    "#   print(i)\n",
    "\n"
   ]
  },
  {
   "cell_type": "code",
   "execution_count": 4,
   "metadata": {},
   "outputs": [
    {
     "name": "stdout",
     "output_type": "stream",
     "text": [
      "/home/yuri011228/1-team-YouTIL-ai/Interview/notebook\n"
     ]
    }
   ],
   "source": [
    "import os\n",
    "print(os.getcwd())"
   ]
  },
  {
   "cell_type": "code",
   "execution_count": 5,
   "metadata": {},
   "outputs": [
    {
     "name": "stdout",
     "output_type": "stream",
     "text": [
      "임베딩 개수: 288\n",
      "각 벡터 차원: torch.Size([1024])\n"
     ]
    }
   ],
   "source": [
    "from transformers import AutoTokenizer, AutoModel\n",
    "import torch\n",
    "\n",
    "model_id = \"BAAI/bge-m3\"\n",
    "\n",
    "# 모델 로드\n",
    "tokenizer = AutoTokenizer.from_pretrained(model_id)\n",
    "model = AutoModel.from_pretrained(model_id)\n",
    "\n",
    "# cpu로 설정\n",
    "device = torch.device(\"cpu\")\n",
    "model = model.to(device)\n",
    "\n",
    "# 질문 리스트 준비\n",
    "sentences = [q[\"question\"] for q in filltered_questions]\n",
    "\n",
    "inputs = tokenizer(sentences, padding=True, truncation=True, return_tensors=\"pt\")\n",
    "inputs = {k: v.to(device) for k, v in inputs.items()}\n",
    "\n",
    "with torch.no_grad():\n",
    "    outputs = model(**inputs)\n",
    "    # 평균 풀링\n",
    "    embeddings = outputs.last_hidden_state.mean(dim=1)\n",
    "\n",
    "# 4. 결과 확인\n",
    "print(\"임베딩 개수:\", len(embeddings))\n",
    "print(\"각 벡터 차원:\", embeddings[0].shape)"
   ]
  },
  {
   "cell_type": "code",
   "execution_count": 8,
   "metadata": {},
   "outputs": [
    {
     "data": {
      "text/plain": [
       "288"
      ]
     },
     "execution_count": 8,
     "metadata": {},
     "output_type": "execute_result"
    }
   ],
   "source": [
    "len(embeddings)"
   ]
  },
  {
   "cell_type": "code",
   "execution_count": 2,
   "metadata": {},
   "outputs": [
    {
     "ename": "NameError",
     "evalue": "name 'embeddings' is not defined",
     "output_type": "error",
     "traceback": [
      "\u001b[31m---------------------------------------------------------------------------\u001b[39m",
      "\u001b[31mNameError\u001b[39m                                 Traceback (most recent call last)",
      "\u001b[36mCell\u001b[39m\u001b[36m \u001b[39m\u001b[32mIn[2]\u001b[39m\u001b[32m, line 12\u001b[39m\n\u001b[32m      9\u001b[39m collection_name = \u001b[33m\"\u001b[39m\u001b[33minterview-questions\u001b[39m\u001b[33m\"\u001b[39m\n\u001b[32m     11\u001b[39m \u001b[38;5;66;03m# 벡터 차원 (bge-m3은 1024)\u001b[39;00m\n\u001b[32m---> \u001b[39m\u001b[32m12\u001b[39m vector_size = \u001b[43membeddings\u001b[49m.shape[\u001b[32m1\u001b[39m]\n\u001b[32m     14\u001b[39m \u001b[38;5;66;03m# 1. 컬렉션 생성 (없다면)\u001b[39;00m\n\u001b[32m     15\u001b[39m qdrant.recreate_collection(\n\u001b[32m     16\u001b[39m     collection_name=collection_name,\n\u001b[32m     17\u001b[39m     vectors_config=VectorParams(size=vector_size, distance=Distance.COSINE)\n\u001b[32m     18\u001b[39m )\n",
      "\u001b[31mNameError\u001b[39m: name 'embeddings' is not defined"
     ]
    }
   ],
   "source": [
    "from qdrant_client import QdrantClient\n",
    "from qdrant_client.models import PointStruct, VectorParams, Distance\n",
    "\n",
    "# Qdrant에 연결 (외부 IP 사용)\n",
    "qdrant = QdrantClient(\n",
    "    host=\"34.55.205.42\",  # 예: \"34.64.12.123\"\n",
    "    port=6333)\n",
    "\n",
    "collection_name = \"interview-questions\"\n",
    "\n",
    "# 벡터 차원 (bge-m3은 1024)\n",
    "vector_size = embeddings.shape[1]\n",
    "\n",
    "# 1. 컬렉션 생성 (없다면)\n",
    "qdrant.recreate_collection(\n",
    "    collection_name=collection_name,\n",
    "    vectors_config=VectorParams(size=vector_size, distance=Distance.COSINE)\n",
    ")\n",
    "\n",
    "# 2. Torch Tensor → list 변환\n",
    "embedding_list = embeddings.cpu().tolist()\n",
    "\n",
    "# 3. 업서트할 포인트 준비\n",
    "points = [\n",
    "    PointStruct(\n",
    "        id=i,\n",
    "        vector=embedding_list[i],\n",
    "        payload=filltered_questions[i]  # {\"question\": ..., \"category\": ...}\n",
    "    )\n",
    "    for i in range(len(embedding_list))\n",
    "]\n",
    "\n",
    "# 4. 업서트\n",
    "qdrant.upsert(collection_name=collection_name, points=points)\n",
    "print(\"Qdrant 업서트 완료!\")\n"
   ]
  },
  {
   "cell_type": "code",
   "execution_count": 25,
   "metadata": {},
   "outputs": [
    {
     "data": {
      "text/plain": [
       "True"
      ]
     },
     "execution_count": 25,
     "metadata": {},
     "output_type": "execute_result"
    }
   ],
   "source": [
    "qdrant.delete_collection(\"interview-questions\")\n"
   ]
  },
  {
   "cell_type": "code",
   "execution_count": 26,
   "metadata": {},
   "outputs": [
    {
     "name": "stdout",
     "output_type": "stream",
     "text": [
      "모델 및 Qdrant 준비 완료\n"
     ]
    }
   ],
   "source": [
    "import os\n",
    "from dotenv import load_dotenv\n",
    "from transformers import AutoTokenizer, AutoModel\n",
    "import torch\n",
    "from qdrant_client import QdrantClient\n",
    "from qdrant_client.models import PointStruct, VectorParams, Distance\n",
    "\n",
    "# 환경변수 로드\n",
    "load_dotenv()\n",
    "qdrant_host = os.getenv(\"QDRANT_HOST\")\n",
    "qdrant_port = int(os.getenv(\"QDRANT_PORT\"))\n",
    "\n",
    "# 모델 로드\n",
    "model_id = \"BAAI/bge-m3\"\n",
    "tokenizer = AutoTokenizer.from_pretrained(model_id)\n",
    "model = AutoModel.from_pretrained(model_id)\n",
    "\n",
    "device = torch.device(\"cpu\")\n",
    "model = model.to(device)\n",
    "\n",
    "# Qdrant 연결\n",
    "qdrant = QdrantClient(host=qdrant_host, port=qdrant_port)\n",
    "collection_name = \"interview-questions\"\n",
    "vector_size = 1024\n",
    "\n",
    "qdrant.create_collection(\n",
    "    collection_name=collection_name,\n",
    "    vectors_config=VectorParams(size=vector_size, distance=Distance.COSINE)\n",
    ")\n",
    "\n",
    "print(\"모델 및 Qdrant 준비 완료\")\n"
   ]
  },
  {
   "cell_type": "code",
   "execution_count": 27,
   "metadata": {},
   "outputs": [
    {
     "name": "stdout",
     "output_type": "stream",
     "text": [
      "배치 임베딩 완료. 포인트 수: 313\n"
     ]
    }
   ],
   "source": [
    "batch_size = 64  # 또는 32\n",
    "\n",
    "all_points = []\n",
    "\n",
    "for i in range(0, len(data_question), batch_size):\n",
    "    batch = data_question[i:i+batch_size]\n",
    "    sentences = [item[\"question\"] for item in batch]\n",
    "\n",
    "    inputs = tokenizer(sentences, return_tensors=\"pt\", padding=True, truncation=True)\n",
    "    inputs = {k: v.to(device) for k, v in inputs.items()}\n",
    "\n",
    "    with torch.no_grad():\n",
    "        outputs = model(**inputs)\n",
    "        embeddings = outputs.last_hidden_state.mean(dim=1)\n",
    "\n",
    "    vectors = embeddings.cpu().tolist()\n",
    "\n",
    "    for j, vec in enumerate(vectors):\n",
    "        all_points.append(\n",
    "            PointStruct(\n",
    "                id=i + j,\n",
    "                vector=vec,\n",
    "                payload=batch[j]\n",
    "            )\n",
    "        )\n",
    "\n",
    "print(f\"배치 임베딩 완료. 포인트 수: {len(all_points)}\")\n"
   ]
  },
  {
   "cell_type": "code",
   "execution_count": 28,
   "metadata": {},
   "outputs": [
    {
     "name": "stdout",
     "output_type": "stream",
     "text": [
      "Qdrant에 313개 포인트 업서트 완료!\n"
     ]
    }
   ],
   "source": [
    "qdrant.upsert(collection_name=collection_name, points=all_points)\n",
    "print(f\"Qdrant에 {len(all_points)}개 포인트 업서트 완료!\")"
   ]
  },
  {
   "cell_type": "code",
   "execution_count": 19,
   "metadata": {},
   "outputs": [
    {
     "name": "stdout",
     "output_type": "stream",
     "text": [
      "Qdrant 업서트 완료!\n"
     ]
    },
    {
     "name": "stderr",
     "output_type": "stream",
     "text": [
      "/tmp/ipykernel_2525/223710356.py:43: DeprecationWarning: `recreate_collection` method is deprecated and will be removed in the future. Use `collection_exists` to check collection existence and `create_collection` instead.\n",
      "  qdrant.recreate_collection(\n"
     ]
    }
   ],
   "source": [
    "from transformers import AutoTokenizer, AutoModel\n",
    "import torch\n",
    "import os\n",
    "from dotenv import load_dotenv\n",
    "from qdrant_client import QdrantClient\n",
    "from qdrant_client.models import PointStruct, VectorParams, Distance\n",
    "\n",
    "load_dotenv()\n",
    "qdrant_host = os.getenv(\"QDRANT_HOST\")\n",
    "qdrant_port = int(os.getenv(\"QDRANT_PORT\"))\n",
    "\n",
    "# 모델 로드\n",
    "model_id = \"BAAI/bge-m3\"\n",
    "tokenizer = AutoTokenizer.from_pretrained(model_id)\n",
    "model = AutoModel.from_pretrained(model_id)\n",
    "\n",
    "# CPU 설정\n",
    "device = torch.device(\"cpu\")\n",
    "\n",
    "# 질문 리스트 준비\n",
    "sentences = [q[\"question\"] for q in data_question]\n",
    "\n",
    "# 토크나이즈\n",
    "inputs = tokenizer(sentences, padding=True, truncation=True, return_tensors=\"pt\")\n",
    "inputs = {k: v.to(device) for k, v in inputs.items()}\n",
    "\n",
    "# 임베딩 생성 (평균 풀링)\n",
    "with torch.no_grad():\n",
    "    outputs = model(**inputs)\n",
    "    embeddings = outputs.last_hidden_state.mean(dim=1)  # (batch_size, 1024)\n",
    "# 벡터 리스트 변환\n",
    "embedding_list = embeddings.cpu().tolist()\n",
    "\n",
    "\n",
    "\n",
    "\n",
    "# Qdrant 포인트 생성\n",
    "points = [\n",
    "    PointStruct(\n",
    "        id=i,\n",
    "        vector=embedding_list[i],\n",
    "        payload=data_question[i]  # question, category, level 포함\n",
    "    )\n",
    "    for i in range(len(embedding_list))\n",
    "]\n",
    "\n",
    "# 업서트 실행\n",
    "qdrant.upsert(\n",
    "    collection_name=collection_name,\n",
    "    points=points\n",
    ")\n",
    "\n",
    "print(\"Qdrant 업서트 완료!\")\n"
   ]
  },
  {
   "cell_type": "code",
   "execution_count": null,
   "metadata": {},
   "outputs": [],
   "source": []
  }
 ],
 "metadata": {
  "kernelspec": {
   "display_name": "deeplearning",
   "language": "python",
   "name": "python3"
  },
  "language_info": {
   "codemirror_mode": {
    "name": "ipython",
    "version": 3
   },
   "file_extension": ".py",
   "mimetype": "text/x-python",
   "name": "python",
   "nbconvert_exporter": "python",
   "pygments_lexer": "ipython3",
   "version": "3.11.12"
  }
 },
 "nbformat": 4,
 "nbformat_minor": 2
}
