{
 "cells": [
  {
   "cell_type": "code",
   "execution_count": 1,
   "metadata": {},
   "outputs": [],
   "source": [
    "from pydantic import BaseModel\n",
    "from typing import List, Dict, Optional, Any, Annotated\n",
    "from pprint import pprint\n",
    "from collections import defaultdict\n",
    "\n",
    "# langgraph 정의\n",
    "from langgraph.graph import StateGraph\n",
    "from langchain_teddynote.graphs import visualize_graph\n",
    "from langsmith import traceable\n",
    "from unidiff import PatchSet\n",
    "\n",
    "from openai import AsyncOpenAI\n",
    "\n",
    "import json"
   ]
  },
  {
   "cell_type": "code",
   "execution_count": 2,
   "metadata": {},
   "outputs": [],
   "source": [
    "with open(\"dataset_mvp_runs.jsonl\", \"r\" ,encoding= 'utf-8') as f:\n",
    "    data_mvp = [json.loads(line) for line in f]\n"
   ]
  },
  {
   "cell_type": "code",
   "execution_count": 3,
   "metadata": {},
   "outputs": [
    {
     "data": {
      "text/plain": [
       "{'date': '2025-03-11',\n",
       " 'repo': '943724054',\n",
       " 'files': [{'patches': [{'patch': '@@ -19,4 +19,4 @@ RUN echo \"DATABASE_URL=${DATABASE_URL}\" > .env\\n EXPOSE 8000\\n \\n # 7. FastAPI 실행 명령\\n-CMD [\"uvicorn\", \"main:app\", \"--host\", \"0.0.0.0\", \"--port\", \"8000\"]\\n\\\\ No newline at end of file\\n+CMD alembic upgrade head && uvicorn main:app --host 0.0.0.0 --port 8000\\n\\\\ No newline at end of file',\n",
       "     'commit_message': 'feat: 데이터 베이스 업데이트 추가'}],\n",
       "   'filepath': 'Dockerfile',\n",
       "   'latest_code': '# 1. Python 3.10 이미지 사용\\nFROM python:3.10\\n\\n# 2. 작업 디렉토리 설정\\n# WORKDIR /app\\n\\n# 3. 종속성 파일 복사 후 패키지 설치\\nCOPY requirements.txt .\\nRUN pip install --no-cache-dir -r requirements.txt\\n\\n# 4. 애플리케이션 코드 복사\\nCOPY . .\\n\\n# 5. GitHub Actions에서 환경 변수를 받아 `.env` 파일로 저장\\nARG DATABASE_URL\\nRUN echo \"DATABASE_URL=${DATABASE_URL}\" > .env\\n\\n# 6. 컨테이너에서 실행할 포트 설정\\nEXPOSE 8000\\n\\n# 7. FastAPI 실행 명령\\nCMD alembic upgrade head && uvicorn main:app --host 0.0.0.0 --port 8000'},\n",
       "  {'patches': [{'patch': '@@ -48,6 +48,5 @@ htmlcov/\\n .pyrightcache/\\n \\n # Alembic 관련\\n-alembic.ini\\n alembic/versions/__pycache__/\\n ',\n",
       "     'commit_message': 'feat: database 업데이트'}],\n",
       "   'filepath': '.gitignore',\n",
       "   'latest_code': '# 📂 Python 가상환경 (venv, .venv 폴더 제외)\\nvenv/\\n.venv/\\n\\n# 📂 Python 컴파일된 파일 및 캐시 폴더\\n__pycache__/\\n*.pyc\\n*.pyo\\n*.pyd\\n\\n# 📂 환경 변수 파일 (보안 중요)\\n.env\\n*.env\\n\\n# 📂 프로젝트 실행 시 생성되는 파일\\n*.log\\n*.sqlite3\\ninstance/\\n\\n# 📂 IDE 및 편집기 관련 파일\\n.vscode/\\n.idea/\\n*.iml\\n\\n# 📂 Jupyter Notebook 체크포인트 (필요 없으면 제거 가능)\\n.ipynb_checkpoints/\\n\\n# 📂 OS별 불필요한 파일\\n.DS_Store\\nThumbs.db\\n\\n# 📂 FastAPI + Uvicorn 실행 관련 파일\\n*.pid\\n*.sock\\n\\n# 📂 Docker 관련 파일 (도커 사용 시 필요)\\ndocker-compose.override.yml\\n\\n# 📂 Pytest, Coverage 관련\\n.coverage\\npytest_cache/\\nhtmlcov/\\n\\n# 📂 MyPy, pylint, pyright 등 linter 관련\\n.mypy_cache/\\n.pylint.d/\\n.pytest_cache/\\n.pyrightcache/\\n\\n# Alembic 관련\\nalembic/versions/__pycache__/\\n\\n'},\n",
       "  {'patches': [{'patch': '@@ -0,0 +1,118 @@\\n+# A generic, single database configuration.\\n+\\n+[alembic]\\n+# path to migration scripts\\n+# Use forward slashes (/) also on windows to provide an os agnostic path\\n+script_location = alembic\\n+\\n+# template used to generate migration file names; The default value is %%(rev)s_%%(slug)s\\n+# Uncomment the line below if you want the files to be prepended with date and time\\n+# see https://alembic.sqlalchemy.org/en/latest/tutorial.html#editing-the-ini-file\\n+# for all available tokens\\n+# file_template = %%(year)d_%%(month).2d_%%(day).2d_%%(hour).2d%%(minute).2d-%%(rev)s_%%(slug)s\\n+\\n+# sys.path path, will be prepended to sys.path if present.\\n+# defaults to the current working directory.\\n+prepend_sys_path = .\\n+\\n+# timezone to use when rendering the date within the migration file\\n+# as well as the filename.\\n+# If specified, requires the python>=3.9 or backports.zoneinfo library and tzdata library.\\n+# Any required deps can installed by adding `alembic[tz]` to the pip requirements\\n+# string value is passed to ZoneInfo()\\n+# leave blank for localtime\\n+# timezone =\\n+\\n+# max length of characters to apply to the \"slug\" field\\n+# truncate_slug_length = 40\\n+\\n+# set to \\'true\\' to run the environment during\\n+# the \\'revision\\' command, regardless of autogenerate\\n+# revision_environment = false\\n+\\n+# set to \\'true\\' to allow .pyc and .pyo files without\\n+# a source .py file to be detected as revisions in the\\n+# versions/ directory\\n+# sourceless = false\\n+\\n+# version location specification; This defaults\\n+# to alembic/versions.  When using multiple version\\n+# directories, initial revisions must be specified with --version-path.\\n+# The path separator used here should be the separator specified by \"version_path_separator\" below.\\n+# version_locations = %(here)s/bar:%(here)s/bat:alembic/versions\\n+\\n+# version path separator; As mentioned above, this is the character used to split\\n+# version_locations. The default within new alembic.ini files is \"os\", which uses os.pathsep.\\n+# If this key is omitted entirely, it falls back to the legacy behavior of splitting on spaces and/or commas.\\n+# Valid values for version_path_separator are:\\n+#\\n+# version_path_separator = :\\n+# version_path_separator = ;\\n+# version_path_separator = space\\n+# version_path_separator = newline\\n+#\\n+# Use os.pathsep. Default configuration used for new projects.\\n+version_path_separator = os\\n+\\n+# set to \\'true\\' to search source files recursively\\n+# in each \"version_locations\" directory\\n+# new in Alembic version 1.10\\n+# recursive_version_locations = false\\n+\\n+# the output encoding used when revision files\\n+# are written from script.py.mako\\n+# output_encoding = utf-8\\n+\\n+sqlalchemy.url = %(DATABASE_URL)s\\n+\\n+[post_write_hooks]\\n+# post_write_hooks defines scripts or Python functions that are run\\n+# on newly generated revision scripts.  See the documentation for further\\n+# detail and examples\\n+\\n+# format using \"black\" - use the console_scripts runner, against the \"black\" entrypoint\\n+# hooks = black\\n+# black.type = console_scripts\\n+# black.entrypoint = black\\n+# black.options = -l 79 REVISION_SCRIPT_FILENAME\\n+\\n+# lint with attempts to fix using \"ruff\" - use the exec runner, execute a binary\\n+# hooks = ruff\\n+# ruff.type = exec\\n+# ruff.executable = %(here)s/.venv/bin/ruff\\n+# ruff.options = check --fix REVISION_SCRIPT_FILENAME\\n+\\n+# Logging configuration\\n+[loggers]\\n+keys = root,sqlalchemy,alembic\\n+\\n+[handlers]\\n+keys = console\\n+\\n+[formatters]\\n+keys = generic\\n+\\n+[logger_root]\\n+level = WARNING\\n+handlers = console\\n+qualname =\\n+\\n+[logger_sqlalchemy]\\n+level = WARNING\\n+handlers =\\n+qualname = sqlalchemy.engine\\n+\\n+[logger_alembic]\\n+level = INFO\\n+handlers =\\n+qualname = alembic\\n+\\n+[handler_console]\\n+class = StreamHandler\\n+args = (sys.stderr,)\\n+level = NOTSET\\n+formatter = generic\\n+\\n+[formatter_generic]\\n+format = %(levelname)-5.5s [%(name)s] %(message)s\\n+datefmt = %H:%M:%S',\n",
       "     'commit_message': 'feat: database 업데이트'}],\n",
       "   'filepath': 'alembic.ini',\n",
       "   'latest_code': '# A generic, single database configuration.\\n\\n[alembic]\\n# path to migration scripts\\n# Use forward slashes (/) also on windows to provide an os agnostic path\\nscript_location = alembic\\n\\n# template used to generate migration file names; The default value is %%(rev)s_%%(slug)s\\n# Uncomment the line below if you want the files to be prepended with date and time\\n# see https://alembic.sqlalchemy.org/en/latest/tutorial.html#editing-the-ini-file\\n# for all available tokens\\n# file_template = %%(year)d_%%(month).2d_%%(day).2d_%%(hour).2d%%(minute).2d-%%(rev)s_%%(slug)s\\n\\n# sys.path path, will be prepended to sys.path if present.\\n# defaults to the current working directory.\\nprepend_sys_path = .\\n\\n# timezone to use when rendering the date within the migration file\\n# as well as the filename.\\n# If specified, requires the python>=3.9 or backports.zoneinfo library and tzdata library.\\n# Any required deps can installed by adding `alembic[tz]` to the pip requirements\\n# string value is passed to ZoneInfo()\\n# leave blank for localtime\\n# timezone =\\n\\n# max length of characters to apply to the \"slug\" field\\n# truncate_slug_length = 40\\n\\n# set to \\'true\\' to run the environment during\\n# the \\'revision\\' command, regardless of autogenerate\\n# revision_environment = false\\n\\n# set to \\'true\\' to allow .pyc and .pyo files without\\n# a source .py file to be detected as revisions in the\\n# versions/ directory\\n# sourceless = false\\n\\n# version location specification; This defaults\\n# to alembic/versions.  When using multiple version\\n# directories, initial revisions must be specified with --version-path.\\n# The path separator used here should be the separator specified by \"version_path_separator\" below.\\n# version_locations = %(here)s/bar:%(here)s/bat:alembic/versions\\n\\n# version path separator; As mentioned above, this is the character used to split\\n# version_locations. The default within new alembic.ini files is \"os\", which uses os.pathsep.\\n# If this key is omitted entirely, it falls back to the legacy behavior of splitting on spaces and/or commas.\\n# Valid values for version_path_separator are:\\n#\\n# version_path_separator = :\\n# version_path_separator = ;\\n# version_path_separator = space\\n# version_path_separator = newline\\n#\\n# Use os.pathsep. Default configuration used for new projects.\\nversion_path_separator = os\\n\\n# set to \\'true\\' to search source files recursively\\n# in each \"version_locations\" directory\\n# new in Alembic version 1.10\\n# recursive_version_locations = false\\n\\n# the output encoding used when revision files\\n# are written from script.py.mako\\n# output_encoding = utf-8\\n\\nsqlalchemy.url = %(DATABASE_URL)s\\n\\n[post_write_hooks]\\n# post_write_hooks defines scripts or Python functions that are run\\n# on newly generated revision scripts.  See the documentation for further\\n# detail and examples\\n\\n# format using \"black\" - use the console_scripts runner, against the \"black\" entrypoint\\n# hooks = black\\n# black.type = console_scripts\\n# black.entrypoint = black\\n# black.options = -l 79 REVISION_SCRIPT_FILENAME\\n\\n# lint with attempts to fix using \"ruff\" - use the exec runner, execute a binary\\n# hooks = ruff\\n# ruff.type = exec\\n# ruff.executable = %(here)s/.venv/bin/ruff\\n# ruff.options = check --fix REVISION_SCRIPT_FILENAME\\n\\n# Logging configuration\\n[loggers]\\nkeys = root,sqlalchemy,alembic\\n\\n[handlers]\\nkeys = console\\n\\n[formatters]\\nkeys = generic\\n\\n[logger_root]\\nlevel = WARNING\\nhandlers = console\\nqualname =\\n\\n[logger_sqlalchemy]\\nlevel = WARNING\\nhandlers =\\nqualname = sqlalchemy.engine\\n\\n[logger_alembic]\\nlevel = INFO\\nhandlers =\\nqualname = alembic\\n\\n[handler_console]\\nclass = StreamHandler\\nargs = (sys.stderr,)\\nlevel = NOTSET\\nformatter = generic\\n\\n[formatter_generic]\\nformat = %(levelname)-5.5s [%(name)s] %(message)s\\ndatefmt = %H:%M:%S\\n'},\n",
       "  {'patches': [{'patch': '@@ -0,0 +1,32 @@\\n+\"\"\"Updated schema\\n+\\n+Revision ID: c49e19c13dfb\\n+Revises: 8532de57310b\\n+Create Date: 2025-03-11 11:22:03.149091\\n+\\n+\"\"\"\\n+from typing import Sequence, Union\\n+\\n+from alembic import op\\n+import sqlalchemy as sa\\n+\\n+\\n+# revision identifiers, used by Alembic.\\n+revision: str = \\'c49e19c13dfb\\'\\n+down_revision: Union[str, None] = \\'8532de57310b\\'\\n+branch_labels: Union[str, Sequence[str], None] = None\\n+depends_on: Union[str, Sequence[str], None] = None\\n+\\n+\\n+def upgrade() -> None:\\n+    \"\"\"Upgrade schema.\"\"\"\\n+    # ### commands auto generated by Alembic - please adjust! ###\\n+    op.add_column(\\'posts\\', sa.Column(\\'author\\', sa.String(length=100), nullable=False))\\n+    # ### end Alembic commands ###\\n+\\n+\\n+def downgrade() -> None:\\n+    \"\"\"Downgrade schema.\"\"\"\\n+    # ### commands auto generated by Alembic - please adjust! ###\\n+    op.drop_column(\\'posts\\', \\'author\\')\\n+    # ### end Alembic commands ###',\n",
       "     'commit_message': 'fix: cors 설정 및 DB 연동 마무리'}],\n",
       "   'filepath': 'alembic/versions/c49e19c13dfb_updated_schema.py',\n",
       "   'latest_code': '\"\"\"Updated schema\\n\\nRevision ID: c49e19c13dfb\\nRevises: 8532de57310b\\nCreate Date: 2025-03-11 11:22:03.149091\\n\\n\"\"\"\\nfrom typing import Sequence, Union\\n\\nfrom alembic import op\\nimport sqlalchemy as sa\\n\\n\\n# revision identifiers, used by Alembic.\\nrevision: str = \\'c49e19c13dfb\\'\\ndown_revision: Union[str, None] = \\'8532de57310b\\'\\nbranch_labels: Union[str, Sequence[str], None] = None\\ndepends_on: Union[str, Sequence[str], None] = None\\n\\n\\ndef upgrade() -> None:\\n    \"\"\"Upgrade schema.\"\"\"\\n    # ### commands auto generated by Alembic - please adjust! ###\\n    op.add_column(\\'posts\\', sa.Column(\\'author\\', sa.String(length=100), nullable=False))\\n    # ### end Alembic commands ###\\n\\n\\ndef downgrade() -> None:\\n    \"\"\"Downgrade schema.\"\"\"\\n    # ### commands auto generated by Alembic - please adjust! ###\\n    op.drop_column(\\'posts\\', \\'author\\')\\n    # ### end Alembic commands ###\\n'},\n",
       "  {'patches': [{'patch': '@@ -1,8 +1,18 @@\\n from fastapi import FastAPI\\n+from fastapi.middleware.cors import CORSMiddleware\\n from post import router as post_router\\n \\n app = FastAPI(root_path=\"/api\")\\n \\n+# CORS 설정 추가\\n+app.add_middleware(\\n+    CORSMiddleware,\\n+    allow_origins=[\"http://localhost:5173\", \"https://jm-story.site\"],  # Vite 프론트엔드 URL\\n+    allow_credentials=True,\\n+    allow_methods=[\"*\"],  # 모든 HTTP 메서드 허용 (GET, POST, PUT, DELETE 등)\\n+    allow_headers=[\"*\"],  # 모든 헤더 허용\\n+)\\n+\\n @app.get(\"/\")\\n def read_root():\\n     return {\"message\": \"Hello, FastAPI!\"}',\n",
       "     'commit_message': 'fix: cors 설정 및 DB 연동 마무리'}],\n",
       "   'filepath': 'main.py',\n",
       "   'latest_code': 'from fastapi import FastAPI\\nfrom fastapi.middleware.cors import CORSMiddleware\\nfrom post import router as post_router\\n\\napp = FastAPI(root_path=\"/api\")\\n\\n# CORS 설정 추가\\napp.add_middleware(\\n    CORSMiddleware,\\n    allow_origins=[\"http://localhost:5173\", \"https://jm-story.site\"],  # Vite 프론트엔드 URL\\n    allow_credentials=True,\\n    allow_methods=[\"*\"],  # 모든 HTTP 메서드 허용 (GET, POST, PUT, DELETE 등)\\n    allow_headers=[\"*\"],  # 모든 헤더 허용\\n)\\n\\n@app.get(\"/\")\\ndef read_root():\\n    return {\"message\": \"Hello, FastAPI!\"}\\n\\n@app.get(\"/health\")\\ndef health_check():\\n    return {\"status\": \"healthy\"}\\n\\n# Post 라우터 등록\\napp.include_router(post_router, prefix=\"/posts\", tags=[\"posts\"])\\n\\n'}],\n",
       " 'username': 'wjdalsdk70',\n",
       " 'code_summary': {},\n",
       " 'patch_summary': []}"
      ]
     },
     "execution_count": 3,
     "metadata": {},
     "output_type": "execute_result"
    }
   ],
   "source": [
    "data_mvp[146][\"inputs\"][\"input\"]"
   ]
  },
  {
   "cell_type": "markdown",
   "metadata": {},
   "source": [
    "## Schema 정의"
   ]
  },
  {
   "cell_type": "code",
   "execution_count": 4,
   "metadata": {},
   "outputs": [],
   "source": [
    "#===========Json Schema===========#\n",
    "class CodeSummaryModel(BaseModel):\n",
    "    code_summary: str\n",
    "    # check_important_change: str\n",
    "\n",
    "#================================#\n",
    "\n",
    "def merge_dicts(x: dict, y: dict) -> dict:\n",
    "    if x is None:\n",
    "        return y\n",
    "    if y is None:\n",
    "        return x\n",
    "    return {**x, **y}\n",
    "\n",
    "# patches 내부 형식 정의\n",
    "class PatchModel(BaseModel):\n",
    "    patch: str\n",
    "    commit_message: str\n",
    "\n",
    "# files 내부 형식 정의\n",
    "class FilesModel(BaseModel):\n",
    "    patches: List[PatchModel]\n",
    "    filepath: str\n",
    "    latest_code: str\n",
    "\n",
    "class DirectoryModel(BaseModel):\n",
    "    patches: List[PatchModel]\n",
    "    latest_code: str\n",
    "    filepath: str\n",
    "    directory_summary: Optional[str] = None\n",
    "    code_summary: str = None\n",
    "    file_node_id: Optional[int] = None  # 파일 단위 node ID\n",
    "\n",
    "class DirectoryGroupModel(BaseModel):\n",
    "    directory_node_id: Optional[int] = None  # 디렉토리 단위 node ID\n",
    "    files: Dict[str, DirectoryModel]\n",
    "    directory_summary: Optional[str] = None\n",
    "\n",
    "class TilModel(BaseModel):\n",
    "    username: str\n",
    "    repo: str\n",
    "    date: str\n",
    "    keywords: List[str]\n",
    "    til_content: Optional[str]  = None \n",
    "\n",
    "# Input 형식 정의\n",
    "class GraphState(BaseModel):\n",
    "    username: str\n",
    "    category: Optional[str] = None\n",
    "    repo: str\n",
    "    date: str\n",
    "    files: List[FilesModel]\n",
    "    til_content: Optional[str]  = None \n",
    "\n",
    "    directory_dict:  Annotated[Optional[Dict[str, DirectoryGroupModel]], merge_dicts] = None\n",
    "    \n",
    "\n",
    "input_data = GraphState(**data_mvp[146][\"inputs\"][\"input\"]) # ** 연산자를 사용하여 딕셔너리를 키워드 인자로 전달"
   ]
  },
  {
   "cell_type": "markdown",
   "metadata": {},
   "source": [
    "## 디렉토리 구조로 변환"
   ]
  },
  {
   "cell_type": "code",
   "execution_count": 5,
   "metadata": {},
   "outputs": [],
   "source": [
    "def make_directory(state: GraphState) -> GraphState:\n",
    "    repo_prefix = state.repo\n",
    "    grouped_by_directory = defaultdict(dict)\n",
    "\n",
    "    for file in state.files:\n",
    "        dir_path = \"/\".join(file.filepath.split(\"/\")[:-1])\n",
    "        normalized_dir = f\"{repo_prefix}/{dir_path}\" if dir_path else repo_prefix\n",
    "\n",
    "        grouped_by_directory[normalized_dir][file.filepath] = DirectoryModel(\n",
    "            filepath=file.filepath,\n",
    "            latest_code=file.latest_code,\n",
    "            patches=file.patches\n",
    "        )\n",
    "\n",
    "    state.directory_dict = {\n",
    "        k: DirectoryGroupModel(files=v) for k, v in grouped_by_directory.items()\n",
    "    }\n",
    "    return state\n",
    "\n",
    "input_data = make_directory(input_data)"
   ]
  },
  {
   "cell_type": "markdown",
   "metadata": {},
   "source": [
    "## 코드 변경 사항 반영"
   ]
  },
  {
   "cell_type": "code",
   "execution_count": 6,
   "metadata": {},
   "outputs": [],
   "source": [
    "def annotate_code_with_patch(latest_code: str, patch_text: str, filename: str) -> str:\n",
    "    # 유효한 patch 헤더 붙이기\n",
    "    if not patch_text.startswith('--- '):\n",
    "        patch_text = f\"--- a/{filename}\\n+++ b/{filename}\\n\" + patch_text\n",
    "\n",
    "    patch = PatchSet(patch_text)\n",
    "    code_lines = latest_code.splitlines()\n",
    "    annotated = code_lines.copy()\n",
    "\n",
    "    target_file = next((f for f in patch if f.path == filename or f.path.endswith(filename)), None)\n",
    "    if not target_file:\n",
    "        return latest_code  # 변경 없음\n",
    "\n",
    "    offset = 0\n",
    "    for hunk in target_file:\n",
    "        for line in hunk:\n",
    "            if line.is_added and line.target_line_no is not None:\n",
    "                idx = line.target_line_no - 1\n",
    "                # 줄 내용이 동일하면 주석만 덧붙이기\n",
    "                if idx < len(annotated) and annotated[idx].strip() == line.value.strip():\n",
    "                    annotated[idx] = \"[+]\" + annotated[idx].rstrip()  \n",
    "                else:\n",
    "                    # 삽입이 필요한 경우에만 insert\n",
    "                    annotated.insert(idx,\"[+]\" + line.value.rstrip())\n",
    "                offset += 1\n",
    "            # 삭제된 줄도 표시\n",
    "            elif line.is_removed:\n",
    "                idx = line.source_line_no - 1 + offset\n",
    "                annotated.insert(idx, f\"[-] {line.value.rstrip()}\")\n",
    "                offset += 1\n",
    "\n",
    "    return \"\\n\".join(annotated)"
   ]
  },
  {
   "cell_type": "markdown",
   "metadata": {},
   "source": [
    "## 디렉토리 구조 시각화"
   ]
  },
  {
   "cell_type": "code",
   "execution_count": 7,
   "metadata": {},
   "outputs": [
    {
     "name": "stdout",
     "output_type": "stream",
     "text": [
      "📂 \n",
      "  └── Dockerfile\n",
      "  └── .gitignore\n",
      "  └── alembic.ini\n",
      "  └── main.py\n",
      "📂 alembic/versions\n",
      "  └── alembic/versions/c49e19c13dfb_updated_schema.py\n",
      "\n"
     ]
    }
   ],
   "source": [
    "# 예시 input_data\n",
    "filepaths = [data.filepath for data in input_data.files]\n",
    "# 디렉토리 기준으로 그룹화\n",
    "grouped_by_directory = defaultdict(list)\n",
    "for path in filepaths:\n",
    "    dir_path = \"/\".join(path.split(\"/\")[:-1])  # 상위 디렉토리 경로만 추출\n",
    "    grouped_by_directory[dir_path].append(path)\n",
    "\n",
    "# 출력\n",
    "directory_structure = \"\"\n",
    "directory_list = []\n",
    "for directory, files in grouped_by_directory.items():\n",
    "    directory_structure += f\"📂 {directory}\\n\"\n",
    "    for f in files:\n",
    "        directory_structure += f\"  └── {f}\\n\"\n",
    "        directory_list.append(f)\n",
    "print(directory_structure)"
   ]
  },
  {
   "cell_type": "markdown",
   "metadata": {},
   "source": [
    "## 디렉토리 분류 노드"
   ]
  },
  {
   "cell_type": "code",
   "execution_count": 8,
   "metadata": {},
   "outputs": [],
   "source": [
    "updated_directory_dict = {}\n",
    "file_counter = 1\n",
    "directory_counter = 1\n",
    "\n",
    "# 디렉토리 경로 순회 (입력 순서 유지)\n",
    "for dir_path in input_data.directory_dict:\n",
    "    group_model = input_data.directory_dict[dir_path]\n",
    "    updated_files = {}\n",
    "\n",
    "    # 파일 경로 순회 (입력 순서 유지)\n",
    "    for filepath in group_model.files:\n",
    "        file_model = group_model.files[filepath]\n",
    "        updated_file_model = file_model.model_copy(update={\"file_node_id\": file_counter})\n",
    "        updated_files[filepath] = updated_file_model\n",
    "        file_counter += 1\n",
    "\n",
    "    updated_group_model = group_model.model_copy(update={\n",
    "        \"files\": updated_files,\n",
    "        \"directory_node_id\": directory_counter\n",
    "    })\n",
    "    updated_directory_dict[dir_path] = updated_group_model\n",
    "    directory_counter += 1"
   ]
  },
  {
   "cell_type": "code",
   "execution_count": 9,
   "metadata": {},
   "outputs": [
    {
     "data": {
      "text/plain": [
       "5"
      ]
     },
     "execution_count": 9,
     "metadata": {},
     "output_type": "execute_result"
    }
   ],
   "source": [
    "dir_keys = list(updated_directory_dict.keys())\n",
    "\n",
    "updated_directory_dict[dir_keys[1]].files[\"alembic/versions/c49e19c13dfb_updated_schema.py\"].file_node_id"
   ]
  },
  {
   "cell_type": "code",
   "execution_count": 10,
   "metadata": {},
   "outputs": [],
   "source": [
    "## dictionary의 items() 메소드는 순서를 보장하지 않음\n",
    "\n",
    "# 디렉토리 구분 없이 file 번호 지정\n",
    "@traceable(run_type=\"tool\")\n",
    "def fork_directory_nodes(state: GraphState) -> GraphState:\n",
    "    updated_directory_dict = {}\n",
    "    file_counter = 1\n",
    "    directory_counter = 1\n",
    "\n",
    "    # 디렉토리 경로 순회 (입력 순서 유지)\n",
    "    for dir_path in state.directory_dict:\n",
    "        group_model = state.directory_dict[dir_path]\n",
    "        updated_files = {}\n",
    "\n",
    "        # 파일 경로 순회 (입력 순서 유지)\n",
    "        for filepath in group_model.files:\n",
    "            file_model = group_model.files[filepath]\n",
    "            updated_file_model = file_model.model_copy(update={\"file_node_id\": file_counter})\n",
    "            updated_files[filepath] = updated_file_model\n",
    "            file_counter += 1\n",
    "\n",
    "        updated_group_model = group_model.model_copy(update={\n",
    "            \"files\": updated_files,\n",
    "            \"directory_node_id\": directory_counter\n",
    "        })\n",
    "        updated_directory_dict[dir_path] = updated_group_model\n",
    "        directory_counter += 1\n",
    "\n",
    "    return {\"directory_dict\": updated_directory_dict}"
   ]
  },
  {
   "cell_type": "markdown",
   "metadata": {},
   "source": [
    "## 파일 단위 Summary"
   ]
  },
  {
   "cell_type": "code",
   "execution_count": 11,
   "metadata": {},
   "outputs": [],
   "source": [
    "model = \"Qwen2.5-Coder-3B-Instruct\"\n",
    "\n",
    "client = AsyncOpenAI(\n",
    "            base_url=\"http://localhost:9010/v1\", \n",
    "            api_key=\"sk-noauth\")"
   ]
  },
  {
   "cell_type": "code",
   "execution_count": 12,
   "metadata": {},
   "outputs": [],
   "source": [
    "def code_summary_prompt(latest_code:str, language=None):\n",
    "    return f\"\"\"\n",
    "        당신은 {language} 코드 분석 전문가입니다. 다음의 내용을 숙지하여 항목에 맞는 코드 요약을 수행해주세요.\n",
    "       다음은 소스코드의 변경 내용입니다. 각 코드 라인의 앞에 [+]는 추가된 줄, [-]는 삭제된 줄을 의미합니다.\n",
    "\n",
    "        [변경된 소스 코드]\n",
    "        {latest_code}\n",
    "\n",
    "        요약 항목:\n",
    "        - 사용 기술 스택: 언어 및 사용된 주요 라이브러리\n",
    "        - 주요 기능: 이 코드 파일의 기능을 한 줄씩 나열\n",
    "        - 프로젝트 내 역할: 전체 시스템에서 이 파일이 담당하는 역할\n",
    "        - 변경 내용 요약: 이번 코드 변경을 통해 **무엇이 어떻게 바뀌었는지** 핵심만 요약\n",
    "\n",
    "        ⚠️ 출력 조건:\n",
    "        - 각 항목은 반드시 `-`로 시작하는 개조식 문장으로 작성할 것\n",
    "        - 변경 내용도 `-` 하나씩 줄바꿈하여 작성할 것\n",
    "        - 문장은 간결하게 유지하고, 불필요한 설명은 포함하지 말 것\n",
    "        - 자연어 설명이 아니라 **기능 단위의 요점 중심 요약**으로 작성할 것\n",
    "        \n",
    "        요약:\"\"\""
   ]
  },
  {
   "cell_type": "code",
   "execution_count": 13,
   "metadata": {},
   "outputs": [],
   "source": [
    "def directory_summary_prompt(code_summary:str, category:str, directory:str):\n",
    "    return f\"\"\"\n",
    "    당신은 {category}의 코드 리뷰어입니다. 다음은 디렉토리(`{directory}`) 내 여러 파일에 걸쳐 적용된 코드 변경 요약입니다.\n",
    "\n",
    "    [디렉토리 내부 코드 요약 내용]\n",
    "    {code_summary}\n",
    "\n",
    "    [제약 조건]\n",
    "    - 동일한 목적의 중복 기능은 통합하여 요약합니다.\n",
    "    - 기술 스택은 주요 구현 언어 또는 프레임워크 단위로 간단히 정리합니다.\n",
    "\n",
    "    [요약 항목]\n",
    "    - 사용 기술 스택: 이 디렉토리에서 사용된 언어 및 주요 라이브러리\n",
    "    - 주요 기능: 사용자 관점에서 이 디렉토리가 제공하는 기능을 한 줄씩 개조식으로 작성\n",
    "    - 시스템 내 역할: 이 디렉토리가 전체 프로젝트 내에서 담당하는 책임 또는 기능적 포지션\n",
    "    - 변경 목적 요약: 이번 코드 변경의 전반적인 목적, 개선 방향 또는 핵심 의도\n",
    "\n",
    "    [출력 형식]\n",
    "    각 항목은 반드시 `-`로 시작하는 개조식 문장으로 작성하세요.  \n",
    "    설명형 서술은 지양하고, **핵심적인 기능 단위의 명확한 요약**을 작성해 주세요.\n",
    "        \n",
    "    요약:\"\"\""
   ]
  },
  {
   "cell_type": "code",
   "execution_count": 14,
   "metadata": {},
   "outputs": [],
   "source": [
    "def til_generate_prompt(date:str, combined_directory_summary: str):\n",
    "    return  f\"\"\"\n",
    "다음은 하나 이상의 소스코드 파일에 대한 분석 요약과 변경 이력 분석입니다. 이를 참고하여 마크다운 형식의 TIL을 작성해 주세요.\n",
    "\n",
    "[날짜]\n",
    "{date}\n",
    "\n",
    "[코드 + 변경 요약]\n",
    "{combined_directory_summary}\n",
    "\n",
    "⚠️ 출력 규칙:\n",
    "- 각 줄은 절대 들여쓰기 없이 시작하세요.\n",
    "- 헤더는 `#`, `##`로 시작하고 공백 없이 맨 앞에 위치해야 합니다.\n",
    "- 본문도 줄 맨 앞에서 시작해야 하며, 불필요한 공백이나 탭을 포함하지 마세요.\n",
    "- 마크다운 문법 이외의 코드블록(````), 따옴표(`\"`, `'`) 블록 등은 사용하지 마세요.\n",
    "        \n",
    "\n",
    "TIL 작성 시 반드시 포함할 항목 (개조식):\n",
    "제목: # 📅 날짜 TIL\n",
    "### 📖 1. 오늘 배운 내용\n",
    "\n",
    "### 📚 2. 개념 정리\n",
    "\n",
    "### 🤔 3. 해당 개념이 필요한 이유\n",
    "\n",
    "### 💡 4. 개념을 활용하는 방법\n",
    "\n",
    "### 🛠️ 5. 문제 해결 과정\n",
    "\n",
    "### ✍️ 6. 하루 회고\n",
    "\n",
    "작성 시 포함해야 할 항목 외에는 작성하지 마세요. 1번 항목부터 순차적으로 작성하세요. 들여쓰기는 없어야 합니다.\n",
    "        \n",
    "TIL:\"\"\"\n",
    "\n",
    "combined_summary = \"\""
   ]
  },
  {
   "cell_type": "code",
   "execution_count": 15,
   "metadata": {},
   "outputs": [],
   "source": [
    "def make_code_summary_node(file_node_id: int):\n",
    "    @traceable(run_type=\"llm\")\n",
    "    async def summarize_file_node(state: GraphState) -> dict:\n",
    "        print(file_node_id)\n",
    "        # file_node_id에 해당하는 grouped_model, filepath, directory 찾기\n",
    "        for directory, file_group in state.directory_dict.items():\n",
    "            for filepath, grouped_model in file_group.files.items():\n",
    "                if grouped_model.file_node_id == file_node_id:\n",
    "                    target_model = grouped_model\n",
    "                    target_filepath = filepath\n",
    "                    target_directory = directory\n",
    "                    break\n",
    "            else:\n",
    "                continue\n",
    "            break\n",
    "        else:\n",
    "            raise ValueError(f\"file_node_id {file_node_id}에 해당하는 파일이 없습니다.\")\n",
    "        \n",
    "        latest_code = annotate_code_with_patch(latest_code=target_model.latest_code,\n",
    "                                               patch_text=target_model.patches[0].patch, \n",
    "                                               filename=target_model.filepath)\n",
    "        # LLM 요청\n",
    "        messages = [{\n",
    "            \"role\": \"user\",\n",
    "            \"content\": code_summary_prompt(latest_code=latest_code, language=None)\n",
    "        }]\n",
    "        \n",
    "\n",
    "        request_payload = {\n",
    "            \"model\": model,\n",
    "            \"messages\": messages,\n",
    "            \"temperature\": 0.1,\n",
    "            \"max_tokens\": 512,\n",
    "            \"top_p\": 0.95,\n",
    "            \"stop\": ['<|im_end|>']\n",
    "        }\n",
    "\n",
    "\n",
    "        response = await client.chat.completions.create(**request_payload)\n",
    "        summary = response.choices[0].message.content\n",
    "        original_model = state.directory_dict[target_directory].files[target_filepath]\n",
    "        updated_model = original_model.model_copy(update={\"code_summary\": summary})\n",
    "        state.directory_dict[target_directory].files[target_filepath] = updated_model\n",
    "\n",
    "        return {\"directory_dict\":state.directory_dict}\n",
    "\n",
    "    return summarize_file_node"
   ]
  },
  {
   "cell_type": "markdown",
   "metadata": {},
   "source": [
    "## 디렉토리 분석 노드"
   ]
  },
  {
   "cell_type": "code",
   "execution_count": 16,
   "metadata": {},
   "outputs": [
    {
     "name": "stdout",
     "output_type": "stream",
     "text": [
      "None\n"
     ]
    }
   ],
   "source": [
    "for directory, file_group in input_data.directory_dict.items():\n",
    "    # if file_group.directory_node_id == directory_node_id:\n",
    "    target_directory = directory\n",
    "    group_model =  file_group\n",
    "\n",
    "for filename, dict_model in group_model.files.items():\n",
    "    print(dict_model.code_summary)"
   ]
  },
  {
   "cell_type": "code",
   "execution_count": 17,
   "metadata": {},
   "outputs": [],
   "source": [
    "def make_directory_summary_node(directory_node_id: int):\n",
    "    @traceable(run_type=\"llm\")\n",
    "    async def summarize_directory_node(state: GraphState) -> dict:\n",
    "        # file_node_id에 해당하는 grouped_model, filepath, directory 찾기\n",
    "        combined_code_summary = \"\"\n",
    "        for directory, file_group in state.directory_dict.items():\n",
    "            if file_group.directory_node_id == directory_node_id:\n",
    "                    target_directory = directory\n",
    "                    group_model =  file_group\n",
    "                    break\n",
    "            else:\n",
    "                continue\n",
    "        else:\n",
    "            raise ValueError(f\"file_node_id {directory_node_id}에 해당하는 파일이 없습니다.\")\n",
    "        \n",
    "        for filename, dict_model in group_model.files.items():\n",
    "            combined_code_summary += f\"{filename} code: \\n{dict_model.code_summary}\"\n",
    "\n",
    "\n",
    "        # LLM 요청\n",
    "        messages = [{\n",
    "            \"role\": \"user\",\n",
    "            \"content\": directory_summary_prompt(code_summary=combined_code_summary, category=None, directory=target_directory)\n",
    "        }]\n",
    "        request_payload = {\n",
    "            \"model\":model,\n",
    "            \"messages\": messages,\n",
    "            \"temperature\": 0.1,\n",
    "            \"max_tokens\": 512,\n",
    "            \"top_p\": 0.95,\n",
    "            \"stop\": ['<|im_end|>']\n",
    "        }\n",
    "\n",
    "\n",
    "        response = await client.chat.completions.create(**request_payload)\n",
    "        # 결과 파싱 (예: structured JSON 반환한다고 가정)\n",
    "\n",
    "        ## 기존 grouped_model\n",
    "        original_model = state.directory_dict[target_directory]\n",
    "        # code_summary 필드 업데이트\n",
    "        updated_model = original_model.model_copy(update={\"directory_summary\": response.choices[0].message.content})\n",
    "        # 상태 반영\n",
    "        state.directory_dict[target_directory] = updated_model\n",
    "        return {\n",
    "            \"directory_dict\":state.directory_dict\n",
    "        }\n",
    "\n",
    "    return summarize_directory_node"
   ]
  },
  {
   "cell_type": "markdown",
   "metadata": {},
   "source": [
    "## TIL 생성 노드"
   ]
  },
  {
   "cell_type": "code",
   "execution_count": 18,
   "metadata": {},
   "outputs": [],
   "source": [
    "async def generate_til_node(state: GraphState) -> dict:\n",
    "    dir_file = state.directory_dict\n",
    "    combined_directory_summary = \"\"\n",
    "    \n",
    "    for dir_name, group_model in dir_file.items():\n",
    "        combined_directory_summary += f\"{dir_name}: \\n directory_summary: {group_model.directory_summary}\\n\\n\"\n",
    "\n",
    "    # LLM 요청\n",
    "    messages = [{\n",
    "        \"role\": \"user\",\n",
    "        \"content\": til_generate_prompt(date=state.date, combined_directory_summary=combined_directory_summary)\n",
    "    }]\n",
    "    request_payload = {\n",
    "        \"model\": model,\n",
    "        \"messages\": messages,\n",
    "        \"temperature\": 0.1,\n",
    "        \"max_tokens\": 2024,\n",
    "        \"top_p\": 0.95,\n",
    "        \"stop\": ['<|im_end|>']\n",
    "    }\n",
    "\n",
    "\n",
    "    response = await client.chat.completions.create(**request_payload)\n",
    "    # 결과 파싱 (예: structured JSON 반환한다고 가정)\n",
    "\n",
    "    ## 기존 grouped_model\n",
    "    original_model = state.directory_dict\n",
    "    # code_summary 필드 업데이트\n",
    "    updated_model = original_model[\"til_content\"] = response.choices[0].message.content\n",
    "    # 상태 반영\n",
    "\n",
    "    til_dict = {\n",
    "        \"username\": state.username,\n",
    "        \"repo\": state.repo,\n",
    "        \"date\": state.date,\n",
    "        \"keywords\": [],\n",
    "        \"til_content\": response.choices[0].message.content\n",
    "    }\n",
    "    return_model = TilModel(**til_dict)\n",
    "    return return_model\n",
    "    "
   ]
  },
  {
   "cell_type": "markdown",
   "metadata": {},
   "source": [
    "## LangGraph 빌드"
   ]
  },
  {
   "cell_type": "code",
   "execution_count": 19,
   "metadata": {},
   "outputs": [],
   "source": [
    "file_counter = 1\n",
    "dir_counter = 1\n",
    "\n",
    "builder = StateGraph(GraphState)\n",
    "builder.set_entry_point(\"fork_directory_node\")\n",
    "builder.add_node(\"fork_directory_node\", fork_directory_nodes)\n",
    "builder.add_node(\"til_generate_node\", generate_til_node)\n",
    "builder.set_finish_point(\"til_generate_node\")\n",
    "\n",
    "# 디렉토리 요약 노드 ID 저장용 리스트\n",
    "dir_node_ids = []\n",
    "\n",
    "for dir_idx, (dir_path, group_model) in enumerate(input_data.directory_dict.items()):\n",
    "    # 디렉토리 내 파일 노드 추가\n",
    "    for file_idx, file_model in enumerate(group_model.files):\n",
    "        file_path = file_model  # file_model이 str인 경우\n",
    "        file_node_id = f\"summarize_file_node_{file_path.replace('/', '_')}\"\n",
    "        file_summary_node = make_code_summary_node(file_counter)\n",
    "        builder.add_node(file_node_id, file_summary_node)\n",
    "        builder.add_edge(\"fork_directory_node\", file_node_id)\n",
    "        file_counter += 1\n",
    "\n",
    "    # 디렉토리 요약 노드 추가\n",
    "    dir_node_id = f\"summarize_directory_node_{dir_path.replace('/', '_')}\"\n",
    "    dir_summary_node = make_directory_summary_node(dir_idx + 1)\n",
    "    dir_node_ids.append(dir_node_id)\n",
    "\n",
    "    builder.add_node(dir_node_id, dir_summary_node)\n",
    "\n",
    "    # 각 파일 요약 노드 → 디렉토리 요약 노드 연결\n",
    "    for file_model in group_model.files:\n",
    "        file_node_id = f\"summarize_file_node_{file_model.replace('/', '_')}\"\n",
    "        builder.add_edge(file_node_id, dir_node_id)\n",
    "\n",
    "# 디렉토리 요약 노드 → TIL 생성 노드 연결\n",
    "for dir_node_id in dir_node_ids:\n",
    "    builder.add_edge(dir_node_id, \"til_generate_node\")\n",
    "\n",
    "graph = builder.compile()"
   ]
  },
  {
   "cell_type": "code",
   "execution_count": 20,
   "metadata": {},
   "outputs": [
    {
     "data": {
      "image/png": "[encoded data removed]",
      "text/plain": [
       "<IPython.core.display.Image object>"
      ]
     },
     "metadata": {},
     "output_type": "display_data"
    }
   ],
   "source": [
    "visualize_graph(graph)"
   ]
  },
  {
   "cell_type": "code",
   "execution_count": 21,
   "metadata": {},
   "outputs": [
    {
     "name": "stdout",
     "output_type": "stream",
     "text": [
      "2\n",
      "1\n",
      "3\n",
      "5\n",
      "4\n"
     ]
    }
   ],
   "source": [
    "result = await graph.ainvoke(input_data)"
   ]
  },
  {
   "cell_type": "code",
   "execution_count": 22,
   "metadata": {},
   "outputs": [
    {
     "name": "stdout",
     "output_type": "stream",
     "text": [
      "# 📅 2025-03-11 TIL\n",
      "\n",
      "### 📖 1. 오늘 배운 내용\n",
      "\n",
      "오늘은 Dockerfile, Alembic, Python 버전 업데이트 등에 대해 배웠습니다. Dockerfile을 통해 Docker 이미지를 생성하고, Python 패키지 설치, 애플리케이션 코드 복사, 환경 변수 설정, 컨테이너 포트 설정, FastAPI 애플리케이션 실행, 데이터베이스 마이그레이션 설정 등이 포함되었습니다. 또한, Alembic을 통해 PostgreSQL 데이터베이스의 `posts` 테이블에 `author` 컬럼을 추가하고, 이를 삭제하는 스크립트를 작성하여 데이터베이스 스키마를 업데이트했습니다.\n",
      "\n",
      "### 📖 2. 개념 정리\n",
      "\n",
      "- **Dockerfile**: Dockerfile은 Docker 이미지를 생성하는 데 사용되는 파일입니다. Dockerfile에서 명령어를 작성하여 필요한 패키지 설치, 애플리케이션 코드 복사, 환경 변수 설정, 컨테이너 포트 설정 등을 지정합니다.\n",
      "- **Alembic**: Alembic은 데이터베이스 스키마의 변경을 관리하는 도구입니다. Alembic은 스크립트를 작성하여 데이터베이스 스키마를 변경하고, 이 변경 사항을 롤백하거나 적용할 수 있습니다.\n",
      "- **Python 버전 업데이트**: Python 버전 업데이트는 애플리케이션의 기능과 성능을 개선하는 데 도움이 됩니다. 하지만, 버전 업데이트는 기존 코드와의 호환성 문제를 초래할 수 있으므로, 주의해야 합니다.\n",
      "\n",
      "### 🤔 3. 해당 개념이 필요한 이유\n",
      "\n",
      "- Dockerfile: Dockerfile을 사용하면 애플리케이션을 쉽게 배포하고 관리할 수 있습니다. Dockerfile을 통해 애플리케이션의 환경을 정의하고, 이를 Docker 이미지로 생성하여 배포할 수 있습니다.\n",
      "- Alembic: Alembic을 사용하면 데이터베이스 스키마의 변경을 관리할 수 있습니다. 데이터베이스 스키마의 변경은 애플리케이션의 기능과 성능을 개선하는 데 도움이 됩니다.\n",
      "- Python 버전 업데이트: Python 버전 업데이트는 애플리케이션의 기능과 성능을 개선하는 데 도움이 됩니다. 하지만, 버전 업데이트는 기존 코드와의 호환성 문제를 초래할 수 있으므로, 주의해야 합니다.\n",
      "\n",
      "### 💡 4. 개념을 활용하는 방법\n",
      "\n",
      "- Dockerfile을 사용하여 애플리케이션을 Docker 이미지로 생성하고, 이를 Docker Hub에 업로드하여 배포할 수 있습니다.\n",
      "- Alembic을 사용하여 데이터베이스 스키마의 변경을 관리하고, 이 변경 사항을 롤백하거나 적용할 수 있습니다.\n",
      "- Python 버전 업데이트를 통해 애플리케이션의 기능과 성능을 개선할 수 있습니다.\n",
      "\n",
      "### 🛠️ 5. 문제 해결 과정\n",
      "\n",
      "- Dockerfile에서 `WORKDIR` 설정을 삭제하여 Dockerfile의 가독성을 높였습니다.\n",
      "- Dockerfile에서 `CMD` 명령어를 변경하여 애플리케이션을 실행할 수 있도록 하였습니다.\n",
      "- Alembic의 `alembic.ini` 파일을 삭제하여 Alembic의 설정을 간소화하였습니다.\n",
      "\n",
      "### ✍️ 6. 하루 회고\n",
      "\n",
      "오늘은 Dockerfile, Alembic, Python 버전 업데이트 등에 대해 배웠습니다. Dockerfile을 통해 Docker 이미지를 생성하고, Python 패키지 설치, 애플리케이션 코드 복사, 환경 변수 설정, 컨테이너 포트 설정, FastAPI 애플리케이션 실행, 데이터베이스 마이그레이션 설정 등이 포함되었습니다. 또한, Alembic을 통해 PostgreSQL 데이터베이스의 `posts` 테이블에 `author` 컬럼을 추가하고, 이를 삭제하는 스크립트를 작성하여 데이터베이스 스키마를 업데이트했습니다. 오늘의 배운 내용을 활용하여 애플리케이션의 배포와 관리에 도움이 될 것입니다.\n"
     ]
    }
   ],
   "source": [
    "print(result[\"til_content\"])"
   ]
  },
  {
   "cell_type": "code",
   "execution_count": 23,
   "metadata": {},
   "outputs": [
    {
     "name": "stdout",
     "output_type": "stream",
     "text": [
      "- 사용 기술 스택: Python 3.10, FastAPI, Alembic, Docker\n",
      "- 주요 기능: Docker 이미지 생성, Python 패키지 설치, 애플리케이션 코드 복사, 환경 변수 설정, 컨테이너 포트 설정, FastAPI 애플리케이션 실행\n",
      "- 프로젝트 내 역할: Dockerfile, 애플리케이션의 빌드 및 배포 설정\n",
      "- 변경 내용 요약:\n",
      "  - Python 버전을 3.10로 업데이트\n",
      "  - Dockerfile의 `WORKDIR` 설정을 삭제\n",
      "  - `CMD` 명령어를 변경하여 Alembic 업그레이드 후 FastAPI 애플리케이션을 실행하도록 설정\n",
      "====================================================================================================\n",
      "- 사용 기술 스택: Python, FastAPI, Uvicorn, Alembic, Docker\n",
      "- 주요 기능: 프로젝트의 파일 관리, 환경 변수 관리, 로깅, 빌드 및 배포 설정, 테스트 및 빌드 결과 관리, 코드 라인 검사 및 코드 리뷰 도구\n",
      "- 프로젝트 내 역할: 프로젝트의 파일 관리, 환경 변수 관리, 로깅, 빌드 및 배포 설정, 테스트 및 빌드 결과 관리, 코드 라인 검사 및 코드 리뷰 도구\n",
      "- 변경 내용 요약:\n",
      "  - `alembic.ini` 파일이 삭제되었습니다.\n",
      "====================================================================================================\n",
      "- 사용 기술 스택: Python, Alembic\n",
      "- 주요 기능: Alembic의 설정 파일\n",
      "- 프로젝트 내 역할: 데이터베이스 마이그레이션 설정\n",
      "- 변경 내용 요약:\n",
      "  - Alembic의 기본 설정을 추가\n",
      "  - Alembic의 스크립트 위치를 설정\n",
      "  - Alembic의 파일 템플릿을 설정\n",
      "  - Alembic의 시스템 경로를 설정\n",
      "  - Alembic의 타임존 설정\n",
      "  - Alembic의 슬러그 길이 설정\n",
      "  - Alembic의 환경 설정\n",
      "  - Alembic의 소스 레이크 설정\n",
      "  - Alembic의 버전 경로 구분자 설정\n",
      "  - Alembic의 재귀 버전 위치 설정\n",
      "  - Alembic의 출력 인코딩 설정\n",
      "  - SQLAlchemy의 데이터베이스 URL 설정\n",
      "  - Alembic의 후 작성 훅 설정\n",
      "  - Alembic의 로깅 설정\n",
      "====================================================================================================\n",
      "- 사용 기술 스택: Python, FastAPI, CORS\n",
      "- 주요 기능: FastAPI 애플리케이션을 초기화하고, CORS 설정을 추가하며, 기본 라우트와 Post 라우터를 등록합니다.\n",
      "- 프로젝트 내 역할: API 서버의 초기 설정 및 기본 기능을 담당합니다.\n",
      "- 변경 내용 요약:\n",
      "  - FastAPI 모듈 추가\n",
      "  - CORS 미들웨어 추가\n",
      "  - 기본 라우트 (`/`, `/health`) 추가\n",
      "  - Post 라우터 (`/posts`) 등록\n",
      "====================================================================================================\n",
      "- 사용 기술 스택: Python, SQLAlchemy, Alembic\n",
      "- 주요 기능: PostgreSQL 데이터베이스의 `posts` 테이블에 `author` 컬럼을 추가하고, 이를 삭제하는 스크립트\n",
      "- 프로젝트 내 역할: 데이터베이스 스키마의 변경을 관리하는 역할\n",
      "- 변경 내용 요약:\n",
      "  - `posts` 테이블에 `author` 컬럼을 추가\n",
      "  - `posts` 테이블의 `author` 컬럼을 삭제\n",
      "====================================================================================================\n"
     ]
    }
   ],
   "source": [
    "for dir_name, grouped_model in result[\"directory_dict\"].items():\n",
    "    for file_name, file in grouped_model.files.items():\n",
    "        print(file.code_summary)\n",
    "        print(\"=\"*100)\n",
    "    "
   ]
  },
  {
   "cell_type": "code",
   "execution_count": 24,
   "metadata": {},
   "outputs": [
    {
     "name": "stdout",
     "output_type": "stream",
     "text": [
      "1\n",
      "2\n",
      "3\n",
      "4\n",
      "5\n"
     ]
    }
   ],
   "source": [
    "for filename, data in result[\"directory_dict\"].items():\n",
    "    for file in data.files:\n",
    "        print(data.files[file].file_node_id)"
   ]
  },
  {
   "cell_type": "code",
   "execution_count": 25,
   "metadata": {},
   "outputs": [
    {
     "name": "stdout",
     "output_type": "stream",
     "text": [
      "# 📅 2025-03-11 TIL\n",
      "\n",
      "### 📖 1. 오늘 배운 내용\n",
      "\n",
      "오늘은 Dockerfile, Alembic, Python 버전 업데이트 등에 대해 배웠습니다. Dockerfile을 통해 Docker 이미지를 생성하고, Python 패키지 설치, 애플리케이션 코드 복사, 환경 변수 설정, 컨테이너 포트 설정, FastAPI 애플리케이션 실행, 데이터베이스 마이그레이션 설정 등이 포함되었습니다. 또한, Alembic을 통해 PostgreSQL 데이터베이스의 `posts` 테이블에 `author` 컬럼을 추가하고, 이를 삭제하는 스크립트를 작성하여 데이터베이스 스키마를 업데이트했습니다.\n",
      "\n",
      "### 📖 2. 개념 정리\n",
      "\n",
      "- **Dockerfile**: Dockerfile은 Docker 이미지를 생성하는 데 사용되는 파일입니다. Dockerfile에서 명령어를 작성하여 필요한 패키지 설치, 애플리케이션 코드 복사, 환경 변수 설정, 컨테이너 포트 설정 등을 지정합니다.\n",
      "- **Alembic**: Alembic은 데이터베이스 스키마의 변경을 관리하는 도구입니다. Alembic은 스크립트를 작성하여 데이터베이스 스키마를 변경하고, 이 변경 사항을 롤백하거나 적용할 수 있습니다.\n",
      "- **Python 버전 업데이트**: Python 버전 업데이트는 애플리케이션의 기능과 성능을 개선하는 데 도움이 됩니다. 하지만, 버전 업데이트는 기존 코드와의 호환성 문제를 초래할 수 있으므로, 주의해야 합니다.\n",
      "\n",
      "### 🤔 3. 해당 개념이 필요한 이유\n",
      "\n",
      "- Dockerfile: Dockerfile을 사용하면 애플리케이션을 쉽게 배포하고 관리할 수 있습니다. Dockerfile을 통해 애플리케이션의 환경을 정의하고, 이를 Docker 이미지로 생성하여 배포할 수 있습니다.\n",
      "- Alembic: Alembic을 사용하면 데이터베이스 스키마의 변경을 관리할 수 있습니다. 데이터베이스 스키마의 변경은 애플리케이션의 기능과 성능을 개선하는 데 도움이 됩니다.\n",
      "- Python 버전 업데이트: Python 버전 업데이트는 애플리케이션의 기능과 성능을 개선하는 데 도움이 됩니다. 하지만, 버전 업데이트는 기존 코드와의 호환성 문제를 초래할 수 있으므로, 주의해야 합니다.\n",
      "\n",
      "### 💡 4. 개념을 활용하는 방법\n",
      "\n",
      "- Dockerfile을 사용하여 애플리케이션을 Docker 이미지로 생성하고, 이를 Docker Hub에 업로드하여 배포할 수 있습니다.\n",
      "- Alembic을 사용하여 데이터베이스 스키마의 변경을 관리하고, 이 변경 사항을 롤백하거나 적용할 수 있습니다.\n",
      "- Python 버전 업데이트를 통해 애플리케이션의 기능과 성능을 개선할 수 있습니다.\n",
      "\n",
      "### 🛠️ 5. 문제 해결 과정\n",
      "\n",
      "- Dockerfile에서 `WORKDIR` 설정을 삭제하여 Dockerfile의 가독성을 높였습니다.\n",
      "- Dockerfile에서 `CMD` 명령어를 변경하여 애플리케이션을 실행할 수 있도록 하였습니다.\n",
      "- Alembic의 `alembic.ini` 파일을 삭제하여 Alembic의 설정을 간소화하였습니다.\n",
      "\n",
      "### ✍️ 6. 하루 회고\n",
      "\n",
      "오늘은 Dockerfile, Alembic, Python 버전 업데이트 등에 대해 배웠습니다. Dockerfile을 통해 Docker 이미지를 생성하고, Python 패키지 설치, 애플리케이션 코드 복사, 환경 변수 설정, 컨테이너 포트 설정, FastAPI 애플리케이션 실행, 데이터베이스 마이그레이션 설정 등이 포함되었습니다. 또한, Alembic을 통해 PostgreSQL 데이터베이스의 `posts` 테이블에 `author` 컬럼을 추가하고, 이를 삭제하는 스크립트를 작성하여 데이터베이스 스키마를 업데이트했습니다. 오늘의 배운 내용을 활용하여 애플리케이션의 배포와 관리에 도움이 될 것입니다.\n"
     ]
    }
   ],
   "source": [
    "print(result[\"til_content\"])"
   ]
  },
  {
   "cell_type": "code",
   "execution_count": null,
   "metadata": {},
   "outputs": [],
   "source": []
  }
 ],
 "metadata": {
  "kernelspec": {
   "display_name": "test",
   "language": "python",
   "name": "python3"
  },
  "language_info": {
   "codemirror_mode": {
    "name": "ipython",
    "version": 3
   },
   "file_extension": ".py",
   "mimetype": "text/x-python",
   "name": "python",
   "nbconvert_exporter": "python",
   "pygments_lexer": "ipython3",
   "version": "3.10.15"
  }
 },
 "nbformat": 4,
 "nbformat_minor": 2
}
