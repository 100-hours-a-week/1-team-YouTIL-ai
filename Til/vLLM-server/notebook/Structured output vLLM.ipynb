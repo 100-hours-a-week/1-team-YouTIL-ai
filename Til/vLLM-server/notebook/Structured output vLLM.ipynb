{
 "cells": [
  {
   "cell_type": "markdown",
   "metadata": {},
   "source": [
    "# Python 기반 vLLM 서버 실행"
   ]
  },
  {
   "cell_type": "code",
   "execution_count": 1,
   "metadata": {},
   "outputs": [],
   "source": [
    "import subprocess\n",
    "import os\n",
    "\n",
    "from dotenv import load_dotenv\n",
    "from sklearn.metrics.pairwise import cosine_similarity\n",
    "\n",
    "from sentence_transformers import SentenceTransformer\n",
    "import numpy as np\n",
    "\n",
    "load_dotenv(dotenv_path=os.path.abspath(\"/home/a01088415234/1-team-YouTIL-ai/Til/vLLM-server/.env\"))\n",
    "model_path = os.getenv(\"GEMMA_MODEL_4B_PATH\")\n",
    "\n",
    "# 1. 모델 로딩\n",
    "model = SentenceTransformer(\"BAAI/bge-m3\", trust_remote_code=True)\n",
    "model = model.to(\"cuda\")"
   ]
  },
  {
   "cell_type": "code",
   "execution_count": 3,
   "metadata": {},
   "outputs": [],
   "source": [
    "def start_vllm_server():\n",
    "    subprocess.Popen([\n",
    "        \"vllm\", \"serve\",\n",
    "        model_path,\n",
    "        \"--port\", \"8001\",\n",
    "        \"--max-model-len\", \"4096\",\n",
    "        \"--gpu-memory-utilization\", \"0.95\",\n",
    "        \"--max-num-seqs\", \"50\",\n",
    "        \"--max-num-batched-tokens\", \"4096\"\n",
    "    ])\n",
    "\n",
    "start_vllm_server()"
   ]
  },
  {
   "cell_type": "code",
   "execution_count": 4,
   "metadata": {},
   "outputs": [],
   "source": [
    "from openai import OpenAI\n",
    "\n",
    "OPENAI_API_KEY = os.getenv(\"OPENAI_API_KEY\")\n",
    "\n",
    "client = OpenAI(\n",
    "    base_url=\"http://localhost:8001/v1\",\n",
    "    api_key=OPENAI_API_KEY,  # 아무 값이나 사용 가능\n",
    ")"
   ]
  },
  {
   "cell_type": "code",
   "execution_count": 5,
   "metadata": {},
   "outputs": [
    {
     "name": "stdout",
     "output_type": "stream",
     "text": [
      "INFO 05-30 06:22:30 [__init__.py:239] Automatically detected platform cuda.\n",
      "INFO 05-30 06:22:31 [api_server.py:1034] vLLM API server version 0.8.3\n",
      "INFO 05-30 06:22:31 [api_server.py:1035] args: Namespace(subparser='serve', model_tag='/home/a01088415234/models/gemma-3-4b-it/', config='', host=None, port=8001, uvicorn_log_level='info', disable_uvicorn_access_log=False, allow_credentials=False, allowed_origins=['*'], allowed_methods=['*'], allowed_headers=['*'], api_key=None, lora_modules=None, prompt_adapters=None, chat_template=None, chat_template_content_format='auto', response_role='assistant', ssl_keyfile=None, ssl_certfile=None, ssl_ca_certs=None, enable_ssl_refresh=False, ssl_cert_reqs=0, root_path=None, middleware=[], return_tokens_as_token_ids=False, disable_frontend_multiprocessing=False, enable_request_id_headers=False, enable_auto_tool_choice=False, tool_call_parser=None, tool_parser_plugin='', model='/home/a01088415234/models/gemma-3-4b-it/', task='auto', tokenizer=None, hf_config_path=None, skip_tokenizer_init=False, revision=None, code_revision=None, tokenizer_revision=None, tokenizer_mode='auto', trust_remote_code=False, allowed_local_media_path=None, download_dir=None, load_format='auto', config_format=<ConfigFormat.AUTO: 'auto'>, dtype='auto', kv_cache_dtype='auto', max_model_len=4096, guided_decoding_backend='xgrammar', logits_processor_pattern=None, model_impl='auto', distributed_executor_backend=None, pipeline_parallel_size=1, tensor_parallel_size=1, data_parallel_size=1, enable_expert_parallel=False, max_parallel_loading_workers=None, ray_workers_use_nsight=False, block_size=None, enable_prefix_caching=None, prefix_caching_hash_algo='builtin', disable_sliding_window=False, use_v2_block_manager=True, num_lookahead_slots=0, seed=None, swap_space=4, cpu_offload_gb=0, gpu_memory_utilization=0.95, num_gpu_blocks_override=None, max_num_batched_tokens=4096, max_num_partial_prefills=1, max_long_partial_prefills=1, long_prefill_token_threshold=0, max_num_seqs=50, max_logprobs=20, disable_log_stats=False, quantization=None, rope_scaling=None, rope_theta=None, hf_overrides=None, enforce_eager=False, max_seq_len_to_capture=8192, disable_custom_all_reduce=False, tokenizer_pool_size=0, tokenizer_pool_type='ray', tokenizer_pool_extra_config=None, limit_mm_per_prompt=None, mm_processor_kwargs=None, disable_mm_preprocessor_cache=False, enable_lora=False, enable_lora_bias=False, max_loras=1, max_lora_rank=16, lora_extra_vocab_size=256, lora_dtype='auto', long_lora_scaling_factors=None, max_cpu_loras=None, fully_sharded_loras=False, enable_prompt_adapter=False, max_prompt_adapters=1, max_prompt_adapter_token=0, device='auto', num_scheduler_steps=1, use_tqdm_on_load=True, multi_step_stream_outputs=True, scheduler_delay_factor=0.0, enable_chunked_prefill=None, speculative_config=None, model_loader_extra_config=None, ignore_patterns=[], preemption_mode=None, served_model_name=None, qlora_adapter_name_or_path=None, show_hidden_metrics_for_version=None, otlp_traces_endpoint=None, collect_detailed_traces=None, disable_async_output_proc=False, scheduling_policy='fcfs', scheduler_cls='vllm.core.scheduler.Scheduler', override_neuron_config=None, override_pooler_config=None, compilation_config=None, kv_transfer_config=None, worker_cls='auto', worker_extension_cls='', generation_config='auto', override_generation_config=None, enable_sleep_mode=False, calculate_kv_scales=False, additional_config=None, enable_reasoning=False, reasoning_parser=None, disable_cascade_attn=False, disable_log_requests=False, max_log_len=None, disable_fastapi_docs=False, enable_prompt_tokens_details=False, enable_server_load_tracking=False, dispatch_function=<function ServeSubcommand.cmd at 0x7f61d0c83130>)\n",
      "INFO 05-30 06:22:40 [config.py:600] This model supports multiple tasks: {'generate', 'embed', 'classify', 'score', 'reward'}. Defaulting to 'generate'.\n",
      "INFO 05-30 06:22:40 [config.py:1780] Chunked prefill is enabled with max_num_batched_tokens=4096.\n",
      "INFO 05-30 06:22:49 [__init__.py:239] Automatically detected platform cuda.\n",
      "INFO 05-30 06:22:51 [core.py:61] Initializing a V1 LLM engine (v0.8.3) with config: model='/home/a01088415234/models/gemma-3-4b-it/', speculative_config=None, tokenizer='/home/a01088415234/models/gemma-3-4b-it/', skip_tokenizer_init=False, tokenizer_mode=auto, revision=None, override_neuron_config=None, tokenizer_revision=None, trust_remote_code=False, dtype=torch.bfloat16, max_seq_len=4096, download_dir=None, load_format=auto, tensor_parallel_size=1, pipeline_parallel_size=1, disable_custom_all_reduce=False, quantization=None, enforce_eager=False, kv_cache_dtype=auto,  device_config=cuda, decoding_config=DecodingConfig(guided_decoding_backend='xgrammar', reasoning_backend=None), observability_config=ObservabilityConfig(show_hidden_metrics=False, otlp_traces_endpoint=None, collect_model_forward_time=False, collect_model_execute_time=False), seed=None, served_model_name=/home/a01088415234/models/gemma-3-4b-it/, num_scheduler_steps=1, multi_step_stream_outputs=True, enable_prefix_caching=True, chunked_prefill_enabled=True, use_async_output_proc=True, disable_mm_preprocessor_cache=False, mm_processor_kwargs=None, pooler_config=None, compilation_config={\"level\":3,\"custom_ops\":[\"none\"],\"splitting_ops\":[\"vllm.unified_attention\",\"vllm.unified_attention_with_output\"],\"use_inductor\":true,\"compile_sizes\":[],\"use_cudagraph\":true,\"cudagraph_num_of_warmups\":1,\"cudagraph_capture_sizes\":[512,504,496,488,480,472,464,456,448,440,432,424,416,408,400,392,384,376,368,360,352,344,336,328,320,312,304,296,288,280,272,264,256,248,240,232,224,216,208,200,192,184,176,168,160,152,144,136,128,120,112,104,96,88,80,72,64,56,48,40,32,24,16,8,4,2,1],\"max_capture_size\":512}\n",
      "WARNING 05-30 06:22:52 [utils.py:2413] Methods determine_num_available_blocks,device_config,get_cache_block_size_bytes,initialize_cache not implemented in <vllm.v1.worker.gpu_worker.Worker object at 0x7f9b55592cb0>\n",
      "INFO 05-30 06:22:52 [parallel_state.py:957] rank 0 in world size 1 is assigned as DP rank 0, PP rank 0, TP rank 0\n",
      "INFO 05-30 06:22:52 [cuda.py:221] Using Flash Attention backend on V1 engine.\n"
     ]
    },
    {
     "name": "stderr",
     "output_type": "stream",
     "text": [
      "Using a slow image processor as `use_fast` is unset and a slow processor was saved with this model. `use_fast=True` will be the default behavior in v4.52, even if the model was saved with a slow processor. This will result in minor differences in outputs. You'll still be able to use a slow processor with `use_fast=False`.\n"
     ]
    },
    {
     "name": "stdout",
     "output_type": "stream",
     "text": [
      "INFO 05-30 06:23:01 [gpu_model_runner.py:1258] Starting to load model /home/a01088415234/models/gemma-3-4b-it/...\n",
      "INFO 05-30 06:23:01 [config.py:3334] cudagraph sizes specified by model runner [1, 2, 4, 8, 16, 24, 32, 40, 48, 56, 64, 72, 80, 88, 96, 104, 112, 120, 128, 136, 144, 152, 160, 168, 176, 184, 192, 200, 208, 216, 224, 232, 240, 248, 256, 264, 272, 280, 288, 296, 304, 312, 320, 328, 336, 344, 352, 360, 368, 376, 384, 392, 400, 408, 416, 424, 432, 440, 448, 456, 464, 472, 480, 488, 496, 504, 512] is overridden by config [512, 384, 256, 128, 4, 2, 1, 392, 264, 136, 8, 400, 272, 144, 16, 408, 280, 152, 24, 416, 288, 160, 32, 424, 296, 168, 40, 432, 304, 176, 48, 440, 312, 184, 56, 448, 320, 192, 64, 456, 328, 200, 72, 464, 336, 208, 80, 472, 344, 216, 88, 120, 480, 352, 248, 224, 96, 488, 504, 360, 232, 104, 496, 368, 240, 112, 376]\n",
      "WARNING 05-30 06:23:01 [topk_topp_sampler.py:69] FlashInfer is not available. Falling back to the PyTorch-native implementation of top-p & top-k sampling. For the best performance, please install FlashInfer.\n"
     ]
    },
    {
     "name": "stderr",
     "output_type": "stream",
     "text": [
      "Loading safetensors checkpoint shards:   0% Completed | 0/2 [00:00<?, ?it/s]\n",
      "Loading safetensors checkpoint shards:  50% Completed | 1/2 [00:00<00:00,  1.04it/s]\n",
      "Loading safetensors checkpoint shards: 100% Completed | 2/2 [00:02<00:00,  1.22s/it]\n",
      "Loading safetensors checkpoint shards: 100% Completed | 2/2 [00:02<00:00,  1.18s/it]\n",
      "\n"
     ]
    },
    {
     "name": "stdout",
     "output_type": "stream",
     "text": [
      "INFO 05-30 06:23:04 [loader.py:447] Loading weights took 2.43 seconds\n",
      "INFO 05-30 06:23:04 [gpu_model_runner.py:1273] Model loading took 8.5833 GiB and 2.698817 seconds\n",
      "INFO 05-30 06:23:04 [gpu_model_runner.py:1542] Encoder cache will be initialized with a budget of 4096 tokens, and profiled with 16 image items of the maximum feature size.\n",
      "INFO 05-30 06:23:22 [backends.py:416] Using cache directory: /home/a01088415234/.cache/vllm/torch_compile_cache/7948162d1b/rank_0_0 for vLLM's torch.compile\n",
      "INFO 05-30 06:23:22 [backends.py:426] Dynamo bytecode transform time: 15.36 s\n",
      "INFO 05-30 06:23:23 [backends.py:115] Directly load the compiled graph for shape None from the cache\n",
      "INFO 05-30 06:23:35 [monitor.py:33] torch.compile takes 15.36 s in total\n",
      "INFO 05-30 06:23:36 [kv_cache_utils.py:578] GPU KV cache size: 57,680 tokens\n",
      "INFO 05-30 06:23:36 [kv_cache_utils.py:581] Maximum concurrency for 4,096 tokens per request: 14.08x\n",
      "INFO 05-30 06:24:06 [gpu_model_runner.py:1608] Graph capturing finished in 29 secs, took 0.55 GiB\n",
      "INFO 05-30 06:24:06 [core.py:162] init engine (profile, create kv cache, warmup model) took 61.77 seconds\n",
      "WARNING 05-30 06:24:06 [config.py:1088] Default sampling parameters have been overridden by the model's Hugging Face generation config recommended from the model creator. If this is not intended, please relaunch vLLM instance with `--generation-config vllm`.\n",
      "INFO 05-30 06:24:06 [serving_chat.py:117] Using default chat sampling params from model: {'top_k': 64, 'top_p': 0.95}\n",
      "INFO 05-30 06:24:06 [serving_completion.py:61] Using default completion sampling params from model: {'top_k': 64, 'top_p': 0.95}\n",
      "INFO 05-30 06:24:06 [api_server.py:1081] Starting vLLM API server on http://0.0.0.0:8001\n",
      "INFO 05-30 06:24:06 [launcher.py:26] Available routes are:\n",
      "INFO 05-30 06:24:06 [launcher.py:34] Route: /openapi.json, Methods: HEAD, GET\n",
      "INFO 05-30 06:24:06 [launcher.py:34] Route: /docs, Methods: HEAD, GET\n",
      "INFO 05-30 06:24:06 [launcher.py:34] Route: /docs/oauth2-redirect, Methods: HEAD, GET\n",
      "INFO 05-30 06:24:06 [launcher.py:34] Route: /redoc, Methods: HEAD, GET\n",
      "INFO 05-30 06:24:06 [launcher.py:34] Route: /health, Methods: GET\n",
      "INFO 05-30 06:24:06 [launcher.py:34] Route: /load, Methods: GET\n",
      "INFO 05-30 06:24:06 [launcher.py:34] Route: /ping, Methods: POST, GET\n",
      "INFO 05-30 06:24:06 [launcher.py:34] Route: /tokenize, Methods: POST\n",
      "INFO 05-30 06:24:06 [launcher.py:34] Route: /detokenize, Methods: POST\n",
      "INFO 05-30 06:24:06 [launcher.py:34] Route: /v1/models, Methods: GET\n",
      "INFO 05-30 06:24:06 [launcher.py:34] Route: /version, Methods: GET\n",
      "INFO 05-30 06:24:06 [launcher.py:34] Route: /v1/chat/completions, Methods: POST\n",
      "INFO 05-30 06:24:06 [launcher.py:34] Route: /v1/completions, Methods: POST\n",
      "INFO 05-30 06:24:06 [launcher.py:34] Route: /v1/embeddings, Methods: POST\n",
      "INFO 05-30 06:24:06 [launcher.py:34] Route: /pooling, Methods: POST\n",
      "INFO 05-30 06:24:06 [launcher.py:34] Route: /score, Methods: POST\n",
      "INFO 05-30 06:24:06 [launcher.py:34] Route: /v1/score, Methods: POST\n",
      "INFO 05-30 06:24:06 [launcher.py:34] Route: /v1/audio/transcriptions, Methods: POST\n",
      "INFO 05-30 06:24:06 [launcher.py:34] Route: /rerank, Methods: POST\n",
      "INFO 05-30 06:24:06 [launcher.py:34] Route: /v1/rerank, Methods: POST\n",
      "INFO 05-30 06:24:06 [launcher.py:34] Route: /v2/rerank, Methods: POST\n",
      "INFO 05-30 06:24:06 [launcher.py:34] Route: /invocations, Methods: POST\n"
     ]
    },
    {
     "name": "stderr",
     "output_type": "stream",
     "text": [
      "INFO:     Started server process [163626]\n",
      "INFO:     Waiting for application startup.\n",
      "INFO:     Application startup complete.\n"
     ]
    }
   ],
   "source": [
    "til = \"\"\" # 📅 2024-09-22\n",
    "### 📖 1. 오늘 배운 내용\n",
    "오늘 학습 내용은 review controller 에서 user token 을 사용하는 방식으로 변경했습니다.  JWT 를 이용하여 사용자 id 를 가져오도록 구현했고, service layer 에서 사용자 id 를 활용해서 리뷰 생성을 진행합니다. 이는 보안 강화를 위해 중요한 부분이라고 생각합니다.\n",
    "\n",
    "### 📚 2. 개념 정리\n",
    "* **JWT (JSON Web Token)** : JSON 객체 형태로 데이터를 인코딩하여 안전하게 전송하기 위한 표준 방식입니다. 유효 기간 설정, 서명 등을 통해 위변조 방지 기능을 제공하며, 토큰 자체에 사용자 정보를 담아보낼 수 있습니다.\n",
    "* **Spring Security**: 자바 기반 웹 애플리케이션에서 보안을 담당하는 프레임워크입니다. 인증, 권한 부여 등의 역할을 수행하며, 다양한 보안 관련 기능을 제공합니다.\n",
    "* **인증 (Authentication)**: 사용자가 누구인지 확인하는 프로세스입니다.\n",
    "* **인가 (Authorization)**: 인증된 사용자의 접근 권한을 결정하는 프로세스입니다.\n",
    "\n",
    "### 🤔 3. 해당 개념이 필요한 이유\n",
    "사용자 토큰을 이용하면 서버 측에서는 클라이언트로부터 받은 토큰만으로 사용자 정보를 확인할 수 있어, 매 요청마다 데이터베이스 조회 과정을 거치지 않아 성능 향상 효과가 있습니다. 또한, 토큰 기반 인증은 세션 기반 인증보다 확장성이 뛰어나며, 모바일 앱과의 통합에도 용이합니다. 특히, API Gateway를 통한 인증 로직 분리가 가능해져 전체 시스템의 복잡도를 낮출 수 있습니다.\n",
    "\n",
    "### 💡 4. 개념을 활용하는 방법\n",
    "1.  클라이언트는 로그인 성공 후 JWT 토큰을 발급받습니다.\n",
    "2.  토큰은 클라이언트에게 전달됩니다.\n",
    "3.  서버는 HTTP Header의 Authorization 필드에 있는 토큰을 검증합니다.\n",
    "4.  유효한 토큰이면 토큰 내부에 저장된 사용자 ID를 추출합니다.\n",
    "5.  서비스 레이어는 추출된 사용자 ID를 사용하여 리퀘스트 처리합니다.\n",
    "\n",
    "### 🛠️ 5. 문제 해결 과정\n",
    "- 기존 컨트롤러에서 직접 사용자 정보를 파라미터로 받던 방식 대신 JWT 토큰을 검증하여 사용자 ID를 얻는 방법을 적용했습니다.\n",
    "- Spring Security 설정을 업데이트하여 JWT 토큰 검증을 활성화했습니다.\n",
    "- Service Layer 의 메서드를 수정하여 User Id 를 받아 리뷰를 생성하도록 했습니다.\n",
    "- JWT 라이브러리를 프로젝트에 추가하고, 토큰 디코딩 및 유효성 검사 코드를 구현했습니다.\n",
    "\n",
    "### ✍️ 6. 하루 회고\n",
    "오늘 JWT 토큰 인증을 적용하면서 보안 취약점을 개선하고, 사용자 식별 정보를 보다 효율적으로 관리할 수 있게 되었습니다. 앞으로 더 많은 곳에서 JWT 토큰을 적극적으로 활용하여 시스템의 안정성과 보안 수준을 높일 계획입니다.\"\"\""
   ]
  },
  {
   "cell_type": "code",
   "execution_count": null,
   "metadata": {},
   "outputs": [
    {
     "name": "stderr",
     "output_type": "stream",
     "text": [
      "Using a slow image processor as `use_fast` is unset and a slow processor was saved with this model. `use_fast=True` will be the default behavior in v4.52, even if the model was saved with a slow processor. This will result in minor differences in outputs. You'll still be able to use a slow processor with `use_fast=False`.\n"
     ]
    },
    {
     "name": "stdout",
     "output_type": "stream",
     "text": [
      "INFO 05-30 06:24:14 [chat_utils.py:396] Detected the chat template content format to be 'openai'. You can set `--chat-template-content-format` to override this.\n",
      "INFO 05-30 06:24:14 [logger.py:39] Received request chatcmpl-dd14564361b442cd8dc4ecc7e16cbf06: prompt: '<bos><start_of_turn>user\\n해당 Til을 참고해서 내용과 관련된 핵심 개념 키워드를 추출해주세요. /n  # 📅 2024-09-22\\n### 📖 1. 오늘 배운 내용\\n오늘 학습 내용은 review controller 에서 user token 을 사용하는 방식으로 변경했습니다.  JWT 를 이용하여 사용자 id 를 가져오도록 구현했고, service layer 에서 사용자 id 를 활용해서 리뷰 생성을 진행합니다. 이는 보안 강화를 위해 중요한 부분이라고 생각합니다.\\n\\n### 📚 2. 개념 정리\\n* **JWT (JSON Web Token)** : JSON 객체 형태로 데이터를 인코딩하여 안전하게 전송하기 위한 표준 방식입니다. 유효 기간 설정, 서명 등을 통해 위변조 방지 기능을 제공하며, 토큰 자체에 사용자 정보를 담아보낼 수 있습니다.\\n* **Spring Security**: 자바 기반 웹 애플리케이션��서 보안을 담당하는 프레임워크입니다. 인증, 권한 부여 등의 역할을 수행하며, 다양한 보안 관련 기능을 제공합니다.\\n* **인증 (Authentication)**: 사용자가 누구인지 확인하는 프로세스입니다.\\n* **인가 (Authorization)**: 인증된 사용자의 접근 권한을 결정하는 프로세스입니다.\\n\\n### 🤔 3. 해당 개념이 필요한 이유\\n사용자 토큰을 이용하면 서버 측에서는 클라이언트로부터 받은 토큰만으로 사용자 정보를 확인할 수 있어, 매 요청마다 데이터베이스 조회 과정을 거치지 않아 성능 향상 효과가 있습니다. 또한, 토큰 기반 인증은 세션 기반 인증보다 확장성이 뛰어나며, 모바일 앱과의 통합에도 용이합니다. 특히, API Gateway를 통한 인증 로직 분리가 가능해져 전체 시스템의 복잡도를 낮출 수 있습니다.\\n\\n### 💡 4. 개념을 활용하는 방법\\n1.  클라이언트는 로그인 성공 후 JWT 토큰을 발급받습니다.\\n2.  토큰은 클라이언트에게 전달됩니다.\\n3.  서버는 HTTP Header의 Authorization 필드에 있는 토큰을 검증합니다.\\n4.  유효한 토큰이면 토큰 내부에 저장된 사용자 ID를 추출합니다.\\n5.  서비스 레이어는 추출된 사용자 ID를 사용하여 리퀘스트 처리합니다.\\n\\n### 🛠️ 5. 문제 해결 과정\\n- 기존 컨트롤러에서 직접 사용자 정보를 파라미터로 받던 방식 대신 JWT 토큰을 검증하여 사용자 ID를 얻는 방법을 적용했습니다.\\n- Spring Security 설정을 업데이트하여 JWT 토큰 검증을 활성화했습니다.\\n- Service Layer 의 메서드를 수정하여 User Id 를 받아 리뷰를 생성하도록 했습니다.\\n- JWT 라이브러리를 프로젝트에 추가하고, 토큰 디코딩 및 유효성 검사 코드를 구현했습니다.\\n\\n### ✍️ 6. 하루 회고\\n오늘 JWT 토큰 인증을 적용하면서 보안 취약점�� 개선하고, 사용자 식별 정보를 보다 효율적으로 관리할 수 있게 되었습니다. 앞으로 더 많은 곳에서 JWT 토큰을 적극적으로 활용하여 시스템의 안정성과 보안 수준을 높일 계획입니다.<end_of_turn>\\n<start_of_turn>model\\n', params: SamplingParams(n=1, presence_penalty=0.0, frequency_penalty=0.0, repetition_penalty=1.0, temperature=1.0, top_p=0.95, top_k=64, min_p=0.0, seed=None, stop=[], stop_token_ids=[], bad_words=[], include_stop_str_in_output=False, ignore_eos=False, max_tokens=3446, min_tokens=0, logprobs=None, prompt_logprobs=None, skip_special_tokens=True, spaces_between_special_tokens=True, truncate_prompt_tokens=None, guided_decoding=GuidedDecodingParams(json={'properties': {'keywords_list': {'default': [], 'items': {'type': 'string'}, 'title': 'Keywords List', 'type': 'array'}}, 'title': 'CarDescription', 'type': 'object'}, regex=None, choice=None, grammar=None, json_object=None, backend=None, whitespace_pattern=None), extra_args=None), prompt_token_ids: None, lora_request: None, prompt_adapter_request: None.\n",
      "INFO 05-30 06:24:14 [async_llm.py:228] Added request chatcmpl-dd14564361b442cd8dc4ecc7e16cbf06.\n",
      "INFO 05-30 06:24:16 [loggers.py:87] Engine 000: Avg prompt throughput: 0.0 tokens/s, Avg generation throughput: 0.0 tokens/s, Running: 0 reqs, Waiting: 0 reqs, GPU KV cache usage: 0.0%, Prefix cache hit rate: 0.0%\n"
     ]
    },
    {
     "name": "stderr",
     "output_type": "stream",
     "text": [
      "/home/a01088415234/myenv/test/lib/python3.10/site-packages/torch/utils/cpp_extension.py:2059: UserWarning: TORCH_CUDA_ARCH_LIST is not set, all archs for visible cards are included for compilation. \n",
      "If this is not desired, please set os.environ['TORCH_CUDA_ARCH_LIST'].\n",
      "  warnings.warn(\n"
     ]
    },
    {
     "name": "stdout",
     "output_type": "stream",
     "text": [
      "INFO:     127.0.0.1:49314 - \"POST /v1/chat/completions HTTP/1.1\" 200 OK\n",
      "{\n",
      "  \"keywords_list\": [\n",
      "    \"JWT (JSON Web Token)\",\n",
      "    \"Spring Security\",\n",
      "    \"인증 (Authentication)\",\n",
      "    \"인가 (Authorization)\",\n",
      "    \"토큰\",\n",
      "    \"사용자 ID\",\n",
      "    \"API Gateway\",\n",
      "    \"보안\",\n",
      "    \"세션 기반 인증\",\n",
      "    \"토큰 검증\",\n",
      "    \"토큰 디코딩\"\n",
      "  ]\n",
      "}\n"
     ]
    },
    {
     "name": "stdout",
     "output_type": "stream",
     "text": [
      "INFO 05-30 06:24:26 [loggers.py:87] Engine 000: Avg prompt throughput: 65.0 tokens/s, Avg generation throughput: 9.5 tokens/s, Running: 0 reqs, Waiting: 0 reqs, GPU KV cache usage: 0.0%, Prefix cache hit rate: 0.0%\n"
     ]
    }
   ],
   "source": [
    "from pydantic import BaseModel\n",
    "from enum import Enum\n",
    "from typing import List\n",
    "\n",
    "class keywords(str, Enum):\n",
    "    keyword1 = \"keyword1\"\n",
    "    keyword2 = \"keyword2\"\n",
    "    keyword3 = \"keyword3\"\n",
    "    keyword4 = \"keyword4\"\n",
    "    keyword5 = \"keyword5\"\n",
    "    keyword6 = \"keyword6\"\n",
    "    keyword7 = \"keyword7\"\n",
    "    keyword8 = \"keyword8\"\n",
    "    keyword9 = \"keyword9\"\n",
    "    keyword10 = \"keyword10\"\n",
    "\n",
    "\n",
    "class CarDescription(BaseModel):\n",
    "    keywords_list: List[str] = []\n",
    "\n",
    "\n",
    "json_schema = CarDescription.model_json_schema()\n",
    "\n",
    "response = client.chat.completions.create(\n",
    "    model=model_path,\n",
    "    messages=[\n",
    "        {\n",
    "            \"role\": \"user\",\n",
    "            \"content\": f\"해당 Til을 참고해서 내용과 관련된 핵심 개념 키워드를 추출해주세요. /n {til}\",\n",
    "        }\n",
    "    ],\n",
    "    extra_body={\"guided_json\": json_schema},\n",
    ")\n",
    "\n",
    "\n",
    "print(response.choices[0].message.content)\n",
    "\n",
    "# response_text = \"\"\n",
    "# for chunk in stream:\n",
    "#     delta = chunk.choices[0].delta\n",
    "#     if \"content\" in delta:\n",
    "#         print(delta[\"content\"])\n",
    "#         response_text += delta[\"content\"]\n",
    "        \n",
    "# # 출력 결과\n",
    "# print(response_text)"
   ]
  },
  {
   "cell_type": "code",
   "execution_count": 8,
   "metadata": {},
   "outputs": [
    {
     "name": "stdout",
     "output_type": "stream",
     "text": [
      "keywords_list=['JWT (JSON Web Token)', 'Spring Security', '인증 (Authentication)', '인가 (Authorization)', '토큰', '사용자 ID', 'API Gateway', '보안', '세션 기반 인증', '토큰 검증', '토큰 디코딩']\n"
     ]
    },
    {
     "name": "stderr",
     "output_type": "stream",
     "text": [
      "/var/tmp/ipykernel_162319/3393043497.py:4: PydanticDeprecatedSince20: The `parse_raw` method is deprecated; if your data is JSON use `model_validate_json`, otherwise load the data then use `model_validate` instead. Deprecated in Pydantic V2.0 to be removed in V3.0. See Pydantic V2 Migration Guide at https://errors.pydantic.dev/2.11/migration/\n",
      "  parsed = CarDescription.parse_raw(response.choices[0].message.content)\n"
     ]
    },
    {
     "data": {
      "text/plain": [
       "['JWT (JSON Web Token)',\n",
       " 'Spring Security',\n",
       " '인증 (Authentication)',\n",
       " '인가 (Authorization)',\n",
       " '토큰',\n",
       " '사용자 ID',\n",
       " 'API Gateway',\n",
       " '보안',\n",
       " '세션 기반 인증',\n",
       " '토큰 검증',\n",
       " '토큰 디코딩']"
      ]
     },
     "execution_count": 8,
     "metadata": {},
     "output_type": "execute_result"
    },
    {
     "name": "stdout",
     "output_type": "stream",
     "text": [
      "INFO 05-30 06:24:36 [loggers.py:87] Engine 000: Avg prompt throughput: 0.0 tokens/s, Avg generation throughput: 0.0 tokens/s, Running: 0 reqs, Waiting: 0 reqs, GPU KV cache usage: 0.0%, Prefix cache hit rate: 0.0%\n"
     ]
    }
   ],
   "source": [
    "from pydantic import ValidationError\n",
    "\n",
    "try:\n",
    "    parsed = CarDescription.parse_raw(response.choices[0].message.content)\n",
    "    print(parsed)\n",
    "except ValidationError as e:\n",
    "    print(\"❌ JSON 파싱 실패:\", e)\n",
    "\n",
    "parsed.keywords_list"
   ]
  },
  {
   "cell_type": "code",
   "execution_count": 14,
   "metadata": {},
   "outputs": [
    {
     "name": "stderr",
     "output_type": "stream",
     "text": [
      "/var/tmp/ipykernel_162319/1887484165.py:35: UserWarning: Glyph 51064 (\\N{HANGUL SYLLABLE IN}) missing from font(s) DejaVu Sans.\n",
      "  plt.tight_layout()\n",
      "/var/tmp/ipykernel_162319/1887484165.py:35: UserWarning: Glyph 51613 (\\N{HANGUL SYLLABLE JEUNG}) missing from font(s) DejaVu Sans.\n",
      "  plt.tight_layout()\n",
      "/var/tmp/ipykernel_162319/1887484165.py:35: UserWarning: Glyph 44032 (\\N{HANGUL SYLLABLE GA}) missing from font(s) DejaVu Sans.\n",
      "  plt.tight_layout()\n",
      "/var/tmp/ipykernel_162319/1887484165.py:35: UserWarning: Glyph 53664 (\\N{HANGUL SYLLABLE TO}) missing from font(s) DejaVu Sans.\n",
      "  plt.tight_layout()\n",
      "/var/tmp/ipykernel_162319/1887484165.py:35: UserWarning: Glyph 53360 (\\N{HANGUL SYLLABLE KEUN}) missing from font(s) DejaVu Sans.\n",
      "  plt.tight_layout()\n",
      "/var/tmp/ipykernel_162319/1887484165.py:35: UserWarning: Glyph 49324 (\\N{HANGUL SYLLABLE SA}) missing from font(s) DejaVu Sans.\n",
      "  plt.tight_layout()\n",
      "/var/tmp/ipykernel_162319/1887484165.py:35: UserWarning: Glyph 50857 (\\N{HANGUL SYLLABLE YONG}) missing from font(s) DejaVu Sans.\n",
      "  plt.tight_layout()\n",
      "/var/tmp/ipykernel_162319/1887484165.py:35: UserWarning: Glyph 51088 (\\N{HANGUL SYLLABLE JA}) missing from font(s) DejaVu Sans.\n",
      "  plt.tight_layout()\n",
      "/var/tmp/ipykernel_162319/1887484165.py:35: UserWarning: Glyph 48372 (\\N{HANGUL SYLLABLE BO}) missing from font(s) DejaVu Sans.\n",
      "  plt.tight_layout()\n",
      "/var/tmp/ipykernel_162319/1887484165.py:35: UserWarning: Glyph 50504 (\\N{HANGUL SYLLABLE AN}) missing from font(s) DejaVu Sans.\n",
      "  plt.tight_layout()\n",
      "/var/tmp/ipykernel_162319/1887484165.py:35: UserWarning: Glyph 49464 (\\N{HANGUL SYLLABLE SE}) missing from font(s) DejaVu Sans.\n",
      "  plt.tight_layout()\n",
      "/var/tmp/ipykernel_162319/1887484165.py:35: UserWarning: Glyph 49496 (\\N{HANGUL SYLLABLE SYEON}) missing from font(s) DejaVu Sans.\n",
      "  plt.tight_layout()\n",
      "/var/tmp/ipykernel_162319/1887484165.py:35: UserWarning: Glyph 44592 (\\N{HANGUL SYLLABLE GI}) missing from font(s) DejaVu Sans.\n",
      "  plt.tight_layout()\n",
      "/var/tmp/ipykernel_162319/1887484165.py:35: UserWarning: Glyph 48152 (\\N{HANGUL SYLLABLE BAN}) missing from font(s) DejaVu Sans.\n",
      "  plt.tight_layout()\n",
      "/var/tmp/ipykernel_162319/1887484165.py:35: UserWarning: Glyph 44160 (\\N{HANGUL SYLLABLE GEOM}) missing from font(s) DejaVu Sans.\n",
      "  plt.tight_layout()\n",
      "/var/tmp/ipykernel_162319/1887484165.py:35: UserWarning: Glyph 46356 (\\N{HANGUL SYLLABLE DI}) missing from font(s) DejaVu Sans.\n",
      "  plt.tight_layout()\n",
      "/var/tmp/ipykernel_162319/1887484165.py:35: UserWarning: Glyph 53076 (\\N{HANGUL SYLLABLE KO}) missing from font(s) DejaVu Sans.\n",
      "  plt.tight_layout()\n",
      "/var/tmp/ipykernel_162319/1887484165.py:35: UserWarning: Glyph 46377 (\\N{HANGUL SYLLABLE DING}) missing from font(s) DejaVu Sans.\n",
      "  plt.tight_layout()\n",
      "/home/a01088415234/myenv/test/lib/python3.10/site-packages/IPython/core/pylabtools.py:170: UserWarning: Glyph 51064 (\\N{HANGUL SYLLABLE IN}) missing from font(s) DejaVu Sans.\n",
      "  fig.canvas.print_figure(bytes_io, **kw)\n",
      "/home/a01088415234/myenv/test/lib/python3.10/site-packages/IPython/core/pylabtools.py:170: UserWarning: Glyph 51613 (\\N{HANGUL SYLLABLE JEUNG}) missing from font(s) DejaVu Sans.\n",
      "  fig.canvas.print_figure(bytes_io, **kw)\n",
      "/home/a01088415234/myenv/test/lib/python3.10/site-packages/IPython/core/pylabtools.py:170: UserWarning: Glyph 44032 (\\N{HANGUL SYLLABLE GA}) missing from font(s) DejaVu Sans.\n",
      "  fig.canvas.print_figure(bytes_io, **kw)\n",
      "/home/a01088415234/myenv/test/lib/python3.10/site-packages/IPython/core/pylabtools.py:170: UserWarning: Glyph 53664 (\\N{HANGUL SYLLABLE TO}) missing from font(s) DejaVu Sans.\n",
      "  fig.canvas.print_figure(bytes_io, **kw)\n",
      "/home/a01088415234/myenv/test/lib/python3.10/site-packages/IPython/core/pylabtools.py:170: UserWarning: Glyph 53360 (\\N{HANGUL SYLLABLE KEUN}) missing from font(s) DejaVu Sans.\n",
      "  fig.canvas.print_figure(bytes_io, **kw)\n",
      "/home/a01088415234/myenv/test/lib/python3.10/site-packages/IPython/core/pylabtools.py:170: UserWarning: Glyph 49324 (\\N{HANGUL SYLLABLE SA}) missing from font(s) DejaVu Sans.\n",
      "  fig.canvas.print_figure(bytes_io, **kw)\n",
      "/home/a01088415234/myenv/test/lib/python3.10/site-packages/IPython/core/pylabtools.py:170: UserWarning: Glyph 50857 (\\N{HANGUL SYLLABLE YONG}) missing from font(s) DejaVu Sans.\n",
      "  fig.canvas.print_figure(bytes_io, **kw)\n",
      "/home/a01088415234/myenv/test/lib/python3.10/site-packages/IPython/core/pylabtools.py:170: UserWarning: Glyph 51088 (\\N{HANGUL SYLLABLE JA}) missing from font(s) DejaVu Sans.\n",
      "  fig.canvas.print_figure(bytes_io, **kw)\n",
      "/home/a01088415234/myenv/test/lib/python3.10/site-packages/IPython/core/pylabtools.py:170: UserWarning: Glyph 48372 (\\N{HANGUL SYLLABLE BO}) missing from font(s) DejaVu Sans.\n",
      "  fig.canvas.print_figure(bytes_io, **kw)\n",
      "/home/a01088415234/myenv/test/lib/python3.10/site-packages/IPython/core/pylabtools.py:170: UserWarning: Glyph 50504 (\\N{HANGUL SYLLABLE AN}) missing from font(s) DejaVu Sans.\n",
      "  fig.canvas.print_figure(bytes_io, **kw)\n",
      "/home/a01088415234/myenv/test/lib/python3.10/site-packages/IPython/core/pylabtools.py:170: UserWarning: Glyph 49464 (\\N{HANGUL SYLLABLE SE}) missing from font(s) DejaVu Sans.\n",
      "  fig.canvas.print_figure(bytes_io, **kw)\n",
      "/home/a01088415234/myenv/test/lib/python3.10/site-packages/IPython/core/pylabtools.py:170: UserWarning: Glyph 49496 (\\N{HANGUL SYLLABLE SYEON}) missing from font(s) DejaVu Sans.\n",
      "  fig.canvas.print_figure(bytes_io, **kw)\n",
      "/home/a01088415234/myenv/test/lib/python3.10/site-packages/IPython/core/pylabtools.py:170: UserWarning: Glyph 44592 (\\N{HANGUL SYLLABLE GI}) missing from font(s) DejaVu Sans.\n",
      "  fig.canvas.print_figure(bytes_io, **kw)\n",
      "/home/a01088415234/myenv/test/lib/python3.10/site-packages/IPython/core/pylabtools.py:170: UserWarning: Glyph 48152 (\\N{HANGUL SYLLABLE BAN}) missing from font(s) DejaVu Sans.\n",
      "  fig.canvas.print_figure(bytes_io, **kw)\n",
      "/home/a01088415234/myenv/test/lib/python3.10/site-packages/IPython/core/pylabtools.py:170: UserWarning: Glyph 44160 (\\N{HANGUL SYLLABLE GEOM}) missing from font(s) DejaVu Sans.\n",
      "  fig.canvas.print_figure(bytes_io, **kw)\n",
      "/home/a01088415234/myenv/test/lib/python3.10/site-packages/IPython/core/pylabtools.py:170: UserWarning: Glyph 46356 (\\N{HANGUL SYLLABLE DI}) missing from font(s) DejaVu Sans.\n",
      "  fig.canvas.print_figure(bytes_io, **kw)\n",
      "/home/a01088415234/myenv/test/lib/python3.10/site-packages/IPython/core/pylabtools.py:170: UserWarning: Glyph 53076 (\\N{HANGUL SYLLABLE KO}) missing from font(s) DejaVu Sans.\n",
      "  fig.canvas.print_figure(bytes_io, **kw)\n",
      "/home/a01088415234/myenv/test/lib/python3.10/site-packages/IPython/core/pylabtools.py:170: UserWarning: Glyph 46377 (\\N{HANGUL SYLLABLE DING}) missing from font(s) DejaVu Sans.\n",
      "  fig.canvas.print_figure(bytes_io, **kw)\n"
     ]
    },
    {
     "data": {
      "image/png": "[encoded data removed]",
      "text/plain": [
       "<Figure size 1000x800 with 1 Axes>"
      ]
     },
     "metadata": {},
     "output_type": "display_data"
    },
    {
     "name": "stdout",
     "output_type": "stream",
     "text": [
      "INFO 05-30 06:27:06 [loggers.py:87] Engine 000: Avg prompt throughput: 0.0 tokens/s, Avg generation throughput: 0.0 tokens/s, Running: 0 reqs, Waiting: 0 reqs, GPU KV cache usage: 0.0%, Prefix cache hit rate: 0.0%\n",
      "INFO 05-30 06:27:16 [loggers.py:87] Engine 000: Avg prompt throughput: 0.0 tokens/s, Avg generation throughput: 0.0 tokens/s, Running: 0 reqs, Waiting: 0 reqs, GPU KV cache usage: 0.0%, Prefix cache hit rate: 0.0%\n"
     ]
    }
   ],
   "source": [
    "import matplotlib as mpl\n",
    "\n",
    "# 폰트 설정 (NanumGothic이 설치된 경우)\n",
    "mpl.rcParams['font.family'] = 'DejaVu Sans'\n",
    "\n",
    "# 마이너 경고 제거\n",
    "mpl.rcParams['axes.unicode_minus'] = False\n",
    "\n",
    "from sklearn.decomposition import PCA\n",
    "import matplotlib.pyplot as plt\n",
    "\n",
    "embeddings = model.encode([til] + parsed.keywords_list, normalize_embeddings=True)\n",
    "\n",
    "# 4. 유사도 계산\n",
    "til_embedding = embeddings[0]\n",
    "keyword_embeddings = embeddings[1:]\n",
    "similarities = np.dot(keyword_embeddings, til_embedding)  # (10,) 벡터\n",
    "\n",
    "# 3. PCA를 사용하여 2차원으로 축소\n",
    "pca = PCA(n_components=2)\n",
    "reduced_embeddings = pca.fit_transform(embeddings)\n",
    "\n",
    "# 4. 시각화\n",
    "plt.figure(figsize=(10, 8))\n",
    "plt.scatter(reduced_embeddings[0, 0], reduced_embeddings[0, 1], color='red', label='TIL')\n",
    "for i, (x, y) in enumerate(reduced_embeddings[1:]):\n",
    "    plt.scatter(x, y, color='blue')\n",
    "    plt.text(x + 0.01, y + 0.01, parsed.keywords_list[i], fontsize=9)\n",
    "\n",
    "plt.title(\"2D PCA of TIL and Keyword Embeddings (bge-m3)\")\n",
    "plt.xlabel(\"PCA 1\")\n",
    "plt.ylabel(\"PCA 2\")\n",
    "plt.legend()\n",
    "plt.grid(True)\n",
    "plt.tight_layout()\n",
    "plt.show()"
   ]
  }
 ],
 "metadata": {
  "kernelspec": {
   "display_name": "test",
   "language": "python",
   "name": "python3"
  },
  "language_info": {
   "codemirror_mode": {
    "name": "ipython",
    "version": 3
   },
   "file_extension": ".py",
   "mimetype": "text/x-python",
   "name": "python",
   "nbconvert_exporter": "python",
   "pygments_lexer": "ipython3",
   "version": "3.10.15"
  }
 },
 "nbformat": 4,
 "nbformat_minor": 2
}
